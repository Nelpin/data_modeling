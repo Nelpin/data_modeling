{
 "cells": [
  {
   "cell_type": "code",
   "execution_count": 1,
   "metadata": {
    "slideshow": {
     "slide_type": "skip"
    }
   },
   "outputs": [],
   "source": [
    "import pandas as pd\n",
    "import numpy as np\n",
    "import math\n",
    "from scipy import stats\n",
    "import matplotlib.pyplot as plt\n",
    "import matplotlib.dates as mdates\n",
    "import dateutil\n",
    "import statsmodels.api as sm\n",
    "from sklearn.metrics import mean_squared_error, mean_absolute_error\n",
    "import plotly.plotly as py\n",
    "import plotly.graph_objs as go\n",
    "from scipy import stats"
   ]
  },
  {
   "cell_type": "markdown",
   "metadata": {
    "slideshow": {
     "slide_type": "slide"
    }
   },
   "source": [
    "# Carga y limpieza de datos"
   ]
  },
  {
   "cell_type": "code",
   "execution_count": 2,
   "metadata": {
    "slideshow": {
     "slide_type": "subslide"
    }
   },
   "outputs": [
    {
     "data": {
      "text/html": [
       "<div>\n",
       "<style scoped>\n",
       "    .dataframe tbody tr th:only-of-type {\n",
       "        vertical-align: middle;\n",
       "    }\n",
       "\n",
       "    .dataframe tbody tr th {\n",
       "        vertical-align: top;\n",
       "    }\n",
       "\n",
       "    .dataframe thead th {\n",
       "        text-align: right;\n",
       "    }\n",
       "</style>\n",
       "<table border=\"1\" class=\"dataframe\">\n",
       "  <thead>\n",
       "    <tr style=\"text-align: right;\">\n",
       "      <th></th>\n",
       "      <th>Valor DustTrack</th>\n",
       "      <th>Valor Honeywell</th>\n",
       "      <th>Hora</th>\n",
       "      <th>Unnamed: 3</th>\n",
       "    </tr>\n",
       "  </thead>\n",
       "  <tbody>\n",
       "    <tr>\n",
       "      <th>0</th>\n",
       "      <td>26</td>\n",
       "      <td>10</td>\n",
       "      <td>07:06:26</td>\n",
       "      <td>NaN</td>\n",
       "    </tr>\n",
       "    <tr>\n",
       "      <th>1</th>\n",
       "      <td>26</td>\n",
       "      <td>10</td>\n",
       "      <td>07:06:27</td>\n",
       "      <td>NaN</td>\n",
       "    </tr>\n",
       "    <tr>\n",
       "      <th>2</th>\n",
       "      <td>26</td>\n",
       "      <td>9</td>\n",
       "      <td>07:06:28</td>\n",
       "      <td>NaN</td>\n",
       "    </tr>\n",
       "    <tr>\n",
       "      <th>3</th>\n",
       "      <td>25</td>\n",
       "      <td>9</td>\n",
       "      <td>07:06:29</td>\n",
       "      <td>NaN</td>\n",
       "    </tr>\n",
       "    <tr>\n",
       "      <th>4</th>\n",
       "      <td>22</td>\n",
       "      <td>9</td>\n",
       "      <td>07:06:30</td>\n",
       "      <td>NaN</td>\n",
       "    </tr>\n",
       "  </tbody>\n",
       "</table>\n",
       "</div>"
      ],
      "text/plain": [
       "  Valor DustTrack Valor Honeywell      Hora Unnamed: 3\n",
       "0              26              10  07:06:26        NaN\n",
       "1              26              10  07:06:27        NaN\n",
       "2              26               9  07:06:28        NaN\n",
       "3              25               9  07:06:29        NaN\n",
       "4              22               9  07:06:30        NaN"
      ]
     },
     "execution_count": 2,
     "metadata": {},
     "output_type": "execute_result"
    }
   ],
   "source": [
    "df_start = pd.read_excel('../Data/Graficas DustTrack Honeywell 5sept comp.xlsx')\n",
    "df_start.head()"
   ]
  },
  {
   "cell_type": "code",
   "execution_count": 3,
   "metadata": {},
   "outputs": [],
   "source": [
    "# Eliminar nulos y headers repetidos\n",
    "\n",
    "df_start = df_start[~df_start['Valor DustTrack'].isna()]\n",
    "df_start = df_start[df_start.columns.values[:-1]]\n",
    "sum(df_start['Valor DustTrack'] == 'Valor DustTrack')\n",
    "df_start = df_start[np.logical_not(df_start['Valor DustTrack'] == 'Valor DustTrack')]\n",
    "\n",
    "df_start.index = np.arange(len(df_start))"
   ]
  },
  {
   "cell_type": "code",
   "execution_count": 4,
   "metadata": {},
   "outputs": [],
   "source": [
    "# Casting a variables numericas\n",
    "\n",
    "df_start[['Valor DustTrack', 'Valor Honeywell']] = df_start[['Valor DustTrack', 'Valor Honeywell']].apply(pd.to_numeric)"
   ]
  },
  {
   "cell_type": "code",
   "execution_count": 5,
   "metadata": {
    "scrolled": true
   },
   "outputs": [],
   "source": [
    "def plot_time_series(df, variables, filename):    \n",
    "    data = list()\n",
    "    for variable in variables:\n",
    "        data.append(go.Scatter(x = df.index,\n",
    "                                 y = df[variable],\n",
    "                                 name=variable))\n",
    "        \n",
    "    layout = go.Layout(title='DustTrack vs Honeywell',\n",
    "                       yaxis=dict(title='Pm 2.5 value'),\n",
    "                       xaxis=dict(title='N° Observation'))\n",
    "    fig = go.Figure(data=data, layout=layout)\n",
    "    plot_url = py.iplot(fig, filename=filename)\n",
    "    return plot_url\n",
    "    \n",
    "# Login plotly\n",
    "py.sign_in('FranciscoJavierOspinaSalazar', 'WLz5dfnwRjfo2cSwlRiL')"
   ]
  },
  {
   "cell_type": "markdown",
   "metadata": {},
   "source": [
    "# Visualización inicial de los datos y exploraciones univariadas"
   ]
  },
  {
   "cell_type": "code",
   "execution_count": 6,
   "metadata": {
    "scrolled": false,
    "slideshow": {
     "slide_type": "slide"
    }
   },
   "outputs": [
    {
     "name": "stdout",
     "output_type": "stream",
     "text": [
      "High five! You successfully sent some data to your account on plotly. View your plot in your browser at https://plot.ly/~FranciscoJavierOspinaSalazar/0 or inside your plot.ly account where it is named 'Comparison_sensors'\n"
     ]
    },
    {
     "data": {
      "text/html": [
       "<iframe id=\"igraph\" scrolling=\"no\" style=\"border:none;\" seamless=\"seamless\" src=\"https://plot.ly/~FranciscoJavierOspinaSalazar/0.embed\" height=\"525px\" width=\"100%\"></iframe>"
      ],
      "text/plain": [
       "<plotly.tools.PlotlyDisplay object>"
      ]
     },
     "execution_count": 6,
     "metadata": {},
     "output_type": "execute_result"
    }
   ],
   "source": [
    "plot_time_series(df=df_start, variables=['Valor DustTrack', 'Valor Honeywell'], filename='Comparison_sensors')"
   ]
  },
  {
   "cell_type": "markdown",
   "metadata": {},
   "source": [
    "## Boxplot de ambas mediciones"
   ]
  },
  {
   "cell_type": "code",
   "execution_count": 7,
   "metadata": {},
   "outputs": [],
   "source": [
    "def build_boxplot(df, variables, filename):\n",
    "    if isinstance(variables, str):\n",
    "        variables = [variables]\n",
    "    data = list()\n",
    "    for variable in variables:\n",
    "        data.append(go.Box(y = df[variable],\n",
    "                           name=variable))\n",
    "        \n",
    "    layout = go.Layout(title='Boxplot',\n",
    "                       yaxis=dict(title='Pm 2.5 value'))\n",
    "    fig = go.Figure(data=data, layout=layout)\n",
    "    plot_url = py.iplot(fig, filename=filename)\n",
    "    return plot_url\n",
    "    "
   ]
  },
  {
   "cell_type": "code",
   "execution_count": 8,
   "metadata": {},
   "outputs": [
    {
     "data": {
      "text/html": [
       "<iframe id=\"igraph\" scrolling=\"no\" style=\"border:none;\" seamless=\"seamless\" src=\"https://plot.ly/~FranciscoJavierOspinaSalazar/2.embed\" height=\"525px\" width=\"100%\"></iframe>"
      ],
      "text/plain": [
       "<plotly.tools.PlotlyDisplay object>"
      ]
     },
     "execution_count": 8,
     "metadata": {},
     "output_type": "execute_result"
    }
   ],
   "source": [
    "build_boxplot(df=df_start, variables='Valor DustTrack', filename='Boxplot_DustTrack')"
   ]
  },
  {
   "cell_type": "code",
   "execution_count": 9,
   "metadata": {},
   "outputs": [
    {
     "data": {
      "text/html": [
       "<iframe id=\"igraph\" scrolling=\"no\" style=\"border:none;\" seamless=\"seamless\" src=\"https://plot.ly/~FranciscoJavierOspinaSalazar/4.embed\" height=\"525px\" width=\"100%\"></iframe>"
      ],
      "text/plain": [
       "<plotly.tools.PlotlyDisplay object>"
      ]
     },
     "execution_count": 9,
     "metadata": {},
     "output_type": "execute_result"
    }
   ],
   "source": [
    "build_boxplot(df=df_start, variables='Valor Honeywell', filename='Boxplot_Honeywell')"
   ]
  },
  {
   "cell_type": "code",
   "execution_count": 10,
   "metadata": {},
   "outputs": [
    {
     "data": {
      "text/html": [
       "<iframe id=\"igraph\" scrolling=\"no\" style=\"border:none;\" seamless=\"seamless\" src=\"https://plot.ly/~FranciscoJavierOspinaSalazar/6.embed\" height=\"525px\" width=\"100%\"></iframe>"
      ],
      "text/plain": [
       "<plotly.tools.PlotlyDisplay object>"
      ]
     },
     "execution_count": 10,
     "metadata": {},
     "output_type": "execute_result"
    }
   ],
   "source": [
    "build_boxplot(df=df_start, variables=['Valor DustTrack', 'Valor Honeywell'], filename='Boxplot_Comparison1')"
   ]
  },
  {
   "cell_type": "markdown",
   "metadata": {},
   "source": [
    "# Remoción de outliers"
   ]
  },
  {
   "cell_type": "code",
   "execution_count": 11,
   "metadata": {},
   "outputs": [],
   "source": [
    "df = df_start.copy()\n",
    "df = df[np.logical_not(np.logical_or(df['Valor Honeywell'] > 90, df['Valor DustTrack'] > 492))]"
   ]
  },
  {
   "cell_type": "markdown",
   "metadata": {},
   "source": [
    "# Suavizamiento de serie con medias móviles\n",
    "\n",
    "La descripción de las médias móviles y su uso para suavizar picos en series de tiempo se encuentra en [http://www.expansion.com/diccionario-economico/media-movil.html](http://www.expansion.com/diccionario-economico/media-movil.html)"
   ]
  },
  {
   "cell_type": "code",
   "execution_count": 12,
   "metadata": {},
   "outputs": [],
   "source": [
    "n_movil_mean = 20\n",
    "movil_mean = df[['Valor DustTrack', 'Valor Honeywell']].rolling(n_movil_mean).mean()\n",
    "movil_mean.columns = ['Mm_DustTrack', 'Mm_Honeywell']\n",
    "movil_mean = movil_mean.loc[n_movil_mean - 1:]"
   ]
  },
  {
   "cell_type": "code",
   "execution_count": 13,
   "metadata": {},
   "outputs": [],
   "source": [
    "## Reescalamiento de los datos con la función Logaritmo"
   ]
  },
  {
   "cell_type": "code",
   "execution_count": 14,
   "metadata": {},
   "outputs": [
    {
     "data": {
      "text/html": [
       "<div>\n",
       "<style scoped>\n",
       "    .dataframe tbody tr th:only-of-type {\n",
       "        vertical-align: middle;\n",
       "    }\n",
       "\n",
       "    .dataframe tbody tr th {\n",
       "        vertical-align: top;\n",
       "    }\n",
       "\n",
       "    .dataframe thead th {\n",
       "        text-align: right;\n",
       "    }\n",
       "</style>\n",
       "<table border=\"1\" class=\"dataframe\">\n",
       "  <thead>\n",
       "    <tr style=\"text-align: right;\">\n",
       "      <th></th>\n",
       "      <th>Mm_DustTrack</th>\n",
       "      <th>Mm_Honeywell</th>\n",
       "      <th>Log10_DustTrack</th>\n",
       "      <th>Log10_Honeywell</th>\n",
       "    </tr>\n",
       "  </thead>\n",
       "  <tbody>\n",
       "    <tr>\n",
       "      <th>0</th>\n",
       "      <td>22.60</td>\n",
       "      <td>8.40</td>\n",
       "      <td>1.354108</td>\n",
       "      <td>0.924279</td>\n",
       "    </tr>\n",
       "    <tr>\n",
       "      <th>1</th>\n",
       "      <td>22.15</td>\n",
       "      <td>8.25</td>\n",
       "      <td>1.345374</td>\n",
       "      <td>0.916454</td>\n",
       "    </tr>\n",
       "    <tr>\n",
       "      <th>2</th>\n",
       "      <td>21.80</td>\n",
       "      <td>8.10</td>\n",
       "      <td>1.338456</td>\n",
       "      <td>0.908485</td>\n",
       "    </tr>\n",
       "    <tr>\n",
       "      <th>3</th>\n",
       "      <td>21.55</td>\n",
       "      <td>8.00</td>\n",
       "      <td>1.333447</td>\n",
       "      <td>0.903090</td>\n",
       "    </tr>\n",
       "    <tr>\n",
       "      <th>4</th>\n",
       "      <td>21.45</td>\n",
       "      <td>7.90</td>\n",
       "      <td>1.331427</td>\n",
       "      <td>0.897627</td>\n",
       "    </tr>\n",
       "  </tbody>\n",
       "</table>\n",
       "</div>"
      ],
      "text/plain": [
       "   Mm_DustTrack  Mm_Honeywell  Log10_DustTrack  Log10_Honeywell\n",
       "0         22.60          8.40         1.354108         0.924279\n",
       "1         22.15          8.25         1.345374         0.916454\n",
       "2         21.80          8.10         1.338456         0.908485\n",
       "3         21.55          8.00         1.333447         0.903090\n",
       "4         21.45          7.90         1.331427         0.897627"
      ]
     },
     "execution_count": 14,
     "metadata": {},
     "output_type": "execute_result"
    }
   ],
   "source": [
    "movil_mean = movil_mean.assign(Log10_DustTrack=np.log10(movil_mean['Mm_DustTrack']))\n",
    "movil_mean = movil_mean.assign(Log10_Honeywell=np.log10(movil_mean['Mm_Honeywell']))\n",
    "movil_mean.index = np.arange(len(movil_mean))\n",
    "movil_mean.head()"
   ]
  },
  {
   "cell_type": "code",
   "execution_count": 15,
   "metadata": {},
   "outputs": [
    {
     "data": {
      "text/html": [
       "<iframe id=\"igraph\" scrolling=\"no\" style=\"border:none;\" seamless=\"seamless\" src=\"https://plot.ly/~FranciscoJavierOspinaSalazar/8.embed\" height=\"525px\" width=\"100%\"></iframe>"
      ],
      "text/plain": [
       "<plotly.tools.PlotlyDisplay object>"
      ]
     },
     "execution_count": 15,
     "metadata": {},
     "output_type": "execute_result"
    }
   ],
   "source": [
    "plot_time_series(df=movil_mean, variables=['Mm_DustTrack', 'Mm_Honeywell'], filename='serie_movil')"
   ]
  },
  {
   "cell_type": "markdown",
   "metadata": {},
   "source": [
    "Con el suavizamiento se suprimieron los picos que superaban 2000 en el eje y"
   ]
  },
  {
   "cell_type": "code",
   "execution_count": 16,
   "metadata": {},
   "outputs": [
    {
     "data": {
      "text/html": [
       "<iframe id=\"igraph\" scrolling=\"no\" style=\"border:none;\" seamless=\"seamless\" src=\"https://plot.ly/~FranciscoJavierOspinaSalazar/10.embed\" height=\"525px\" width=\"100%\"></iframe>"
      ],
      "text/plain": [
       "<plotly.tools.PlotlyDisplay object>"
      ]
     },
     "execution_count": 16,
     "metadata": {},
     "output_type": "execute_result"
    }
   ],
   "source": [
    "plot_time_series(df=movil_mean, variables=['Log10_DustTrack', 'Log10_Honeywell'], filename='log10_serie_movil')"
   ]
  },
  {
   "cell_type": "code",
   "execution_count": 17,
   "metadata": {},
   "outputs": [
    {
     "data": {
      "text/html": [
       "<iframe id=\"igraph\" scrolling=\"no\" style=\"border:none;\" seamless=\"seamless\" src=\"https://plot.ly/~FranciscoJavierOspinaSalazar/12.embed\" height=\"525px\" width=\"100%\"></iframe>"
      ],
      "text/plain": [
       "<plotly.tools.PlotlyDisplay object>"
      ]
     },
     "execution_count": 17,
     "metadata": {},
     "output_type": "execute_result"
    }
   ],
   "source": [
    "build_boxplot(df=movil_mean, variables=['Log10_DustTrack', 'Log10_Honeywell'], filename='Bloxplot_log10')"
   ]
  },
  {
   "cell_type": "markdown",
   "metadata": {},
   "source": [
    "# Correlación lineal de Pearson \n",
    "\n",
    "[https://es.wikipedia.org/wiki/Coeficiente_de_correlaci%C3%B3n_de_Pearson](https://es.wikipedia.org/wiki/Coeficiente_de_correlaci%C3%B3n_de_Pearson)\n",
    "\n",
    "Debido a que solo son dos variables si la correlación de pearson es alta se pueden hacer modelos que intenten generar la variable **Valor DustTrack** a partir de **Valor Honeywell**."
   ]
  },
  {
   "cell_type": "code",
   "execution_count": 18,
   "metadata": {},
   "outputs": [],
   "source": [
    "# Coeficiente de correlación sobre las variables crudas\n",
    "# stats.pearsonr(df['Valor Honeywell'], df['Valor DustTrack'])"
   ]
  },
  {
   "cell_type": "code",
   "execution_count": 19,
   "metadata": {},
   "outputs": [],
   "source": [
    "# Coeficiente de correlación sobre las variables transformadas por logaritmos\n",
    "# stats.pearsonr(np.log10(df['Valor Honeywell']), np.log10(df['Valor DustTrack']))"
   ]
  },
  {
   "cell_type": "code",
   "execution_count": 20,
   "metadata": {},
   "outputs": [],
   "source": [
    "# Coeficinte de correlación sobre las series suavizadas por las media móviles\n",
    "# stats.pearsonr(movil_mean['Mm_DustTrack'], movil_mean['Mm_Honeywell'])"
   ]
  },
  {
   "cell_type": "code",
   "execution_count": 21,
   "metadata": {},
   "outputs": [
    {
     "data": {
      "text/plain": [
       "(0.9770356179506381, 0.0)"
      ]
     },
     "execution_count": 21,
     "metadata": {},
     "output_type": "execute_result"
    }
   ],
   "source": [
    "# Coeficinte de correlación sobre las variables transformadas por logaritmos de las\n",
    "# series suavizadas por las media móviles\n",
    "stats.pearsonr(movil_mean['Log10_DustTrack'], movil_mean['Log10_Honeywell'])"
   ]
  },
  {
   "cell_type": "markdown",
   "metadata": {},
   "source": [
    "Tanto en la gráfica de la serie de tiempo como en la correlación, estas son las mejores variables hasta el momento para el modelo. "
   ]
  },
  {
   "cell_type": "markdown",
   "metadata": {},
   "source": [
    "# Construcción de modelos lineales"
   ]
  },
  {
   "cell_type": "markdown",
   "metadata": {},
   "source": [
    "## Test de shapiro para determinar normalidad en los datos"
   ]
  },
  {
   "cell_type": "code",
   "execution_count": 22,
   "metadata": {},
   "outputs": [
    {
     "data": {
      "text/plain": [
       "(0.9558135867118835, 1.8494479728290665e-36)"
      ]
     },
     "execution_count": 22,
     "metadata": {},
     "output_type": "execute_result"
    }
   ],
   "source": [
    "stats.shapiro(np.random.choice(movil_mean['Log10_DustTrack'], replace=False, size=5000))"
   ]
  },
  {
   "cell_type": "markdown",
   "metadata": {},
   "source": [
    "## Modelos sin intercepto. De la forma: \n",
    "$$y = ax$$"
   ]
  },
  {
   "cell_type": "code",
   "execution_count": 23,
   "metadata": {},
   "outputs": [
    {
     "name": "stdout",
     "output_type": "stream",
     "text": [
      "                            OLS Regression Results                            \n",
      "==============================================================================\n",
      "Dep. Variable:                      y   R-squared:                       0.996\n",
      "Model:                            OLS   Adj. R-squared:                  0.996\n",
      "Method:                 Least Squares   F-statistic:                 3.403e+06\n",
      "Date:                Wed, 26 Sep 2018   Prob (F-statistic):               0.00\n",
      "Time:                        11:29:12   Log-Likelihood:                 8589.1\n",
      "No. Observations:               14361   AIC:                        -1.718e+04\n",
      "Df Residuals:                   14360   BIC:                        -1.717e+04\n",
      "Df Model:                           1                                         \n",
      "Covariance Type:            nonrobust                                         \n",
      "==============================================================================\n",
      "                 coef    std err          t      P>|t|      [0.025      0.975]\n",
      "------------------------------------------------------------------------------\n",
      "x1             1.4557      0.001   1844.666      0.000       1.454       1.457\n",
      "==============================================================================\n",
      "Omnibus:                     1084.746   Durbin-Watson:                   0.004\n",
      "Prob(Omnibus):                  0.000   Jarque-Bera (JB):             1581.439\n",
      "Skew:                           0.621   Prob(JB):                         0.00\n",
      "Kurtosis:                       4.048   Cond. No.                         1.00\n",
      "==============================================================================\n",
      "\n",
      "Warnings:\n",
      "[1] Standard Errors assume that the covariance matrix of the errors is correctly specified.\n"
     ]
    }
   ],
   "source": [
    "model = sm.OLS(endog=movil_mean['Log10_DustTrack'].values, \n",
    "               exog=movil_mean['Log10_Honeywell'].values)\n",
    "res = model.fit()\n",
    "print(res.summary())"
   ]
  },
  {
   "cell_type": "code",
   "execution_count": 24,
   "metadata": {},
   "outputs": [
    {
     "name": "stdout",
     "output_type": "stream",
     "text": [
      "Test de shapiro sobre los residuales: 2.1978422413341353e-31\n"
     ]
    }
   ],
   "source": [
    "print('Test de shapiro sobre los residuales: {}'.format(stats.shapiro(np.random.choice(res.resid,size=5000))[1]))"
   ]
  },
  {
   "cell_type": "markdown",
   "metadata": {},
   "source": [
    "## Modelos con intercepto. De la forma: \n",
    "$$y = ax + b$$"
   ]
  },
  {
   "cell_type": "code",
   "execution_count": 25,
   "metadata": {},
   "outputs": [
    {
     "name": "stdout",
     "output_type": "stream",
     "text": [
      "                            OLS Regression Results                            \n",
      "==============================================================================\n",
      "Dep. Variable:                      y   R-squared:                       0.955\n",
      "Model:                            OLS   Adj. R-squared:                  0.955\n",
      "Method:                 Least Squares   F-statistic:                 3.019e+05\n",
      "Date:                Wed, 26 Sep 2018   Prob (F-statistic):               0.00\n",
      "Time:                        11:29:12   Log-Likelihood:                 14763.\n",
      "No. Observations:               14361   AIC:                        -2.952e+04\n",
      "Df Residuals:                   14359   BIC:                        -2.951e+04\n",
      "Df Model:                           1                                         \n",
      "Covariance Type:            nonrobust                                         \n",
      "==============================================================================\n",
      "                 coef    std err          t      P>|t|      [0.025      0.975]\n",
      "------------------------------------------------------------------------------\n",
      "const          0.4181      0.003    139.883      0.000       0.412       0.424\n",
      "x1             1.1674      0.002    549.462      0.000       1.163       1.172\n",
      "==============================================================================\n",
      "Omnibus:                     1597.086   Durbin-Watson:                   0.007\n",
      "Prob(Omnibus):                  0.000   Jarque-Bera (JB):             4336.447\n",
      "Skew:                          -0.622   Prob(JB):                         0.00\n",
      "Kurtosis:                       5.387   Cond. No.                         8.65\n",
      "==============================================================================\n",
      "\n",
      "Warnings:\n",
      "[1] Standard Errors assume that the covariance matrix of the errors is correctly specified.\n"
     ]
    }
   ],
   "source": [
    "model2 = sm.OLS(endog=movil_mean['Log10_DustTrack'].values, \n",
    "                exog=sm.add_constant(movil_mean['Log10_Honeywell'].values))\n",
    "res2 = model2.fit()\n",
    "print(res2.summary())"
   ]
  },
  {
   "cell_type": "code",
   "execution_count": 26,
   "metadata": {},
   "outputs": [
    {
     "name": "stdout",
     "output_type": "stream",
     "text": [
      "Test de shapiro sobre los residuales: 9.355045213787479e-30\n"
     ]
    }
   ],
   "source": [
    "print('Test de shapiro sobre los residuales: {}'.format(stats.shapiro(np.random.choice(res.resid,size=5000))[1]))"
   ]
  },
  {
   "cell_type": "markdown",
   "metadata": {},
   "source": [
    "Tanto la Log-verosimilitud, como el AIC como el BIC muestran que el mejor de los dos modelos es el que tiene intercepto."
   ]
  },
  {
   "cell_type": "markdown",
   "metadata": {},
   "source": [
    "## Append de predicciones a las series suavizadas"
   ]
  },
  {
   "cell_type": "code",
   "execution_count": 27,
   "metadata": {},
   "outputs": [
    {
     "data": {
      "text/html": [
       "<div>\n",
       "<style scoped>\n",
       "    .dataframe tbody tr th:only-of-type {\n",
       "        vertical-align: middle;\n",
       "    }\n",
       "\n",
       "    .dataframe tbody tr th {\n",
       "        vertical-align: top;\n",
       "    }\n",
       "\n",
       "    .dataframe thead th {\n",
       "        text-align: right;\n",
       "    }\n",
       "</style>\n",
       "<table border=\"1\" class=\"dataframe\">\n",
       "  <thead>\n",
       "    <tr style=\"text-align: right;\">\n",
       "      <th></th>\n",
       "      <th>Mm_DustTrack</th>\n",
       "      <th>Mm_Honeywell</th>\n",
       "      <th>Log10_DustTrack</th>\n",
       "      <th>Log10_Honeywell</th>\n",
       "      <th>pred_without_intercept</th>\n",
       "      <th>pred_with_intercept</th>\n",
       "    </tr>\n",
       "  </thead>\n",
       "  <tbody>\n",
       "    <tr>\n",
       "      <th>0</th>\n",
       "      <td>22.60</td>\n",
       "      <td>8.40</td>\n",
       "      <td>1.354108</td>\n",
       "      <td>0.924279</td>\n",
       "      <td>22.156422</td>\n",
       "      <td>31.411214</td>\n",
       "    </tr>\n",
       "    <tr>\n",
       "      <th>1</th>\n",
       "      <td>22.15</td>\n",
       "      <td>8.25</td>\n",
       "      <td>1.345374</td>\n",
       "      <td>0.916454</td>\n",
       "      <td>21.582813</td>\n",
       "      <td>30.757413</td>\n",
       "    </tr>\n",
       "    <tr>\n",
       "      <th>2</th>\n",
       "      <td>21.80</td>\n",
       "      <td>8.10</td>\n",
       "      <td>1.338456</td>\n",
       "      <td>0.908485</td>\n",
       "      <td>21.013939</td>\n",
       "      <td>30.105599</td>\n",
       "    </tr>\n",
       "    <tr>\n",
       "      <th>3</th>\n",
       "      <td>21.55</td>\n",
       "      <td>8.00</td>\n",
       "      <td>1.333447</td>\n",
       "      <td>0.903090</td>\n",
       "      <td>20.637342</td>\n",
       "      <td>29.672175</td>\n",
       "    </tr>\n",
       "    <tr>\n",
       "      <th>4</th>\n",
       "      <td>21.45</td>\n",
       "      <td>7.90</td>\n",
       "      <td>1.331427</td>\n",
       "      <td>0.897627</td>\n",
       "      <td>20.262884</td>\n",
       "      <td>29.239657</td>\n",
       "    </tr>\n",
       "  </tbody>\n",
       "</table>\n",
       "</div>"
      ],
      "text/plain": [
       "   Mm_DustTrack  Mm_Honeywell  Log10_DustTrack  Log10_Honeywell  \\\n",
       "0         22.60          8.40         1.354108         0.924279   \n",
       "1         22.15          8.25         1.345374         0.916454   \n",
       "2         21.80          8.10         1.338456         0.908485   \n",
       "3         21.55          8.00         1.333447         0.903090   \n",
       "4         21.45          7.90         1.331427         0.897627   \n",
       "\n",
       "   pred_without_intercept  pred_with_intercept  \n",
       "0               22.156422            31.411214  \n",
       "1               21.582813            30.757413  \n",
       "2               21.013939            30.105599  \n",
       "3               20.637342            29.672175  \n",
       "4               20.262884            29.239657  "
      ]
     },
     "execution_count": 27,
     "metadata": {},
     "output_type": "execute_result"
    }
   ],
   "source": [
    "pred = np.power(10, res.predict(movil_mean['Log10_Honeywell']))\n",
    "movil_mean = movil_mean.assign(pred_without_intercept=pred)\n",
    "pred2 = np.power(10, res2.predict(sm.add_constant(movil_mean['Log10_Honeywell'].values)))\n",
    "movil_mean = movil_mean.assign(pred_with_intercept=pred2)\n",
    "movil_mean.head()"
   ]
  },
  {
   "cell_type": "markdown",
   "metadata": {},
   "source": [
    "## Append de predicciones a las series sin suaizar"
   ]
  },
  {
   "cell_type": "code",
   "execution_count": 28,
   "metadata": {},
   "outputs": [
    {
     "data": {
      "text/html": [
       "<div>\n",
       "<style scoped>\n",
       "    .dataframe tbody tr th:only-of-type {\n",
       "        vertical-align: middle;\n",
       "    }\n",
       "\n",
       "    .dataframe tbody tr th {\n",
       "        vertical-align: top;\n",
       "    }\n",
       "\n",
       "    .dataframe thead th {\n",
       "        text-align: right;\n",
       "    }\n",
       "</style>\n",
       "<table border=\"1\" class=\"dataframe\">\n",
       "  <thead>\n",
       "    <tr style=\"text-align: right;\">\n",
       "      <th></th>\n",
       "      <th>Valor DustTrack</th>\n",
       "      <th>Valor Honeywell</th>\n",
       "      <th>Hora</th>\n",
       "      <th>pred_without_intercept</th>\n",
       "      <th>pred_with_intercept</th>\n",
       "    </tr>\n",
       "  </thead>\n",
       "  <tbody>\n",
       "    <tr>\n",
       "      <th>0</th>\n",
       "      <td>26</td>\n",
       "      <td>10</td>\n",
       "      <td>07:06:26</td>\n",
       "      <td>28.558041</td>\n",
       "      <td>38.501470</td>\n",
       "    </tr>\n",
       "    <tr>\n",
       "      <th>1</th>\n",
       "      <td>26</td>\n",
       "      <td>10</td>\n",
       "      <td>07:06:27</td>\n",
       "      <td>28.558041</td>\n",
       "      <td>38.501470</td>\n",
       "    </tr>\n",
       "    <tr>\n",
       "      <th>2</th>\n",
       "      <td>26</td>\n",
       "      <td>9</td>\n",
       "      <td>07:06:28</td>\n",
       "      <td>24.497284</td>\n",
       "      <td>34.045702</td>\n",
       "    </tr>\n",
       "    <tr>\n",
       "      <th>3</th>\n",
       "      <td>25</td>\n",
       "      <td>9</td>\n",
       "      <td>07:06:29</td>\n",
       "      <td>24.497284</td>\n",
       "      <td>34.045702</td>\n",
       "    </tr>\n",
       "    <tr>\n",
       "      <th>4</th>\n",
       "      <td>22</td>\n",
       "      <td>9</td>\n",
       "      <td>07:06:30</td>\n",
       "      <td>24.497284</td>\n",
       "      <td>34.045702</td>\n",
       "    </tr>\n",
       "  </tbody>\n",
       "</table>\n",
       "</div>"
      ],
      "text/plain": [
       "   Valor DustTrack  Valor Honeywell      Hora  pred_without_intercept  \\\n",
       "0               26               10  07:06:26               28.558041   \n",
       "1               26               10  07:06:27               28.558041   \n",
       "2               26                9  07:06:28               24.497284   \n",
       "3               25                9  07:06:29               24.497284   \n",
       "4               22                9  07:06:30               24.497284   \n",
       "\n",
       "   pred_with_intercept  \n",
       "0            38.501470  \n",
       "1            38.501470  \n",
       "2            34.045702  \n",
       "3            34.045702  \n",
       "4            34.045702  "
      ]
     },
     "execution_count": 28,
     "metadata": {},
     "output_type": "execute_result"
    }
   ],
   "source": [
    "df_start = df_start.assign(pred_without_intercept=np.power(10, res.predict(np.log10(df_start['Valor Honeywell']))))\n",
    "df_start = df_start.assign(pred_with_intercept=np.power(10, res2.predict(sm.add_constant(np.log10(df_start['Valor Honeywell'])))))\n",
    "df_start.head()"
   ]
  },
  {
   "cell_type": "markdown",
   "metadata": {},
   "source": [
    "# Plots del valor real vs la predicción del modelo (sobre serie suavizada)"
   ]
  },
  {
   "cell_type": "code",
   "execution_count": 29,
   "metadata": {},
   "outputs": [
    {
     "data": {
      "text/html": [
       "<iframe id=\"igraph\" scrolling=\"no\" style=\"border:none;\" seamless=\"seamless\" src=\"https://plot.ly/~FranciscoJavierOspinaSalazar/14.embed\" height=\"525px\" width=\"100%\"></iframe>"
      ],
      "text/plain": [
       "<plotly.tools.PlotlyDisplay object>"
      ]
     },
     "execution_count": 29,
     "metadata": {},
     "output_type": "execute_result"
    }
   ],
   "source": [
    "plot_time_series(df=movil_mean, \n",
    "                 variables=['Mm_DustTrack', 'pred_with_intercept'], \n",
    "                 filename='Predictions_01')"
   ]
  },
  {
   "cell_type": "code",
   "execution_count": 30,
   "metadata": {},
   "outputs": [
    {
     "data": {
      "text/html": [
       "<iframe id=\"igraph\" scrolling=\"no\" style=\"border:none;\" seamless=\"seamless\" src=\"https://plot.ly/~FranciscoJavierOspinaSalazar/16.embed\" height=\"525px\" width=\"100%\"></iframe>"
      ],
      "text/plain": [
       "<plotly.tools.PlotlyDisplay object>"
      ]
     },
     "execution_count": 30,
     "metadata": {},
     "output_type": "execute_result"
    }
   ],
   "source": [
    "plot_time_series(df=df_start,\n",
    "                 variables=['Valor DustTrack', 'pred_with_intercept'],\n",
    "                 filename='Predictions_02')"
   ]
  },
  {
   "cell_type": "markdown",
   "metadata": {},
   "source": [
    "# Errores de la predicción vs el valor real"
   ]
  },
  {
   "cell_type": "code",
   "execution_count": 31,
   "metadata": {},
   "outputs": [
    {
     "data": {
      "text/plain": [
       "3182.2668604078153"
      ]
     },
     "execution_count": 31,
     "metadata": {},
     "output_type": "execute_result"
    }
   ],
   "source": [
    "# Error cuadratico medio para el modelo con intercepto\n",
    "mean_squared_error(df_start['Valor DustTrack'], df_start['pred_with_intercept'])"
   ]
  },
  {
   "cell_type": "code",
   "execution_count": 32,
   "metadata": {},
   "outputs": [
    {
     "data": {
      "text/plain": [
       "26.18394928335687"
      ]
     },
     "execution_count": 32,
     "metadata": {},
     "output_type": "execute_result"
    }
   ],
   "source": [
    "# Error absoluto medio para el modelo con intercepto\n",
    "\n",
    "mean_absolute_error(df_start['Valor DustTrack'], df_start['pred_with_intercept'])"
   ]
  },
  {
   "cell_type": "code",
   "execution_count": 33,
   "metadata": {},
   "outputs": [
    {
     "data": {
      "text/plain": [
       "9296.27726285298"
      ]
     },
     "execution_count": 33,
     "metadata": {},
     "output_type": "execute_result"
    }
   ],
   "source": [
    "# Error cuadratico medio para el modelo sin intercepto\n",
    "\n",
    "mean_squared_error(df_start['Valor DustTrack'], df_start['pred_without_intercept'])"
   ]
  },
  {
   "cell_type": "code",
   "execution_count": 34,
   "metadata": {},
   "outputs": [
    {
     "data": {
      "text/plain": [
       "46.155642698282406"
      ]
     },
     "execution_count": 34,
     "metadata": {},
     "output_type": "execute_result"
    }
   ],
   "source": [
    "# Error absoluto medio para el modelo con intercepto\n",
    "\n",
    "mean_absolute_error(df_start['Valor DustTrack'], df_start['pred_without_intercept'])"
   ]
  },
  {
   "cell_type": "markdown",
   "metadata": {},
   "source": [
    "# Ecuación final de modelamiento\n",
    "\n",
    "La ecuación final que mejor se comporta para el modelamiento de los valores de **Valor DustTrack** a partir de los datos de **Valor Honeywell** es:\n",
    "\n",
    "$$y = 10^{1.1674 * log_{10}(x) + 0.4181}$$\n",
    "\n",
    "\n",
    "Donde X es el valor de la variable **Valor Honeywell**  y y el valor de la variable **Valor DustTrack** "
   ]
  },
  {
   "cell_type": "markdown",
   "metadata": {},
   "source": [
    "# Conclusiones finales\n",
    "\n",
    "- Es posible hacer una reconstrucción no perfecta pero si bastante buena de los datos del sensor **DustTrack** con base en los datos del sensor **Honeywell**.\n",
    "\n",
    "- Puede haber nuevas transformaciones de los datos que permitan tener modelamietos más precisos. Transformar mediante el logaritmo funciona bien pero eso no quiere decir que no pueda haber mejores transformaciones.\n",
    "\n",
    "- Queda pendiente la evaluación de nuevos modelos (No lineales).\n",
    "\n",
    "- Queda pendiente la evaluación de modelos basados en ML."
   ]
  }
 ],
 "metadata": {
  "kernelspec": {
   "display_name": "Python 3",
   "language": "python",
   "name": "python3"
  },
  "language_info": {
   "codemirror_mode": {
    "name": "ipython",
    "version": 3
   },
   "file_extension": ".py",
   "mimetype": "text/x-python",
   "name": "python",
   "nbconvert_exporter": "python",
   "pygments_lexer": "ipython3",
   "version": "3.7.0"
  }
 },
 "nbformat": 4,
 "nbformat_minor": 2
}

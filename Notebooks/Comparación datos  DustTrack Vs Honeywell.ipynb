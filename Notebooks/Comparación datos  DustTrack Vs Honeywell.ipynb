{
 "cells": [
  {
   "cell_type": "code",
   "execution_count": 1,
   "metadata": {
    "slideshow": {
     "slide_type": "skip"
    }
   },
   "outputs": [
    {
     "name": "stderr",
     "output_type": "stream",
     "text": [
      "/home/pacho/anaconda3/envs/jupyter3/lib/python3.5/importlib/_bootstrap.py:222: RuntimeWarning: numpy.dtype size changed, may indicate binary incompatibility. Expected 96, got 88\n",
      "  return f(*args, **kwds)\n",
      "/home/pacho/anaconda3/envs/jupyter3/lib/python3.5/importlib/_bootstrap.py:222: RuntimeWarning: numpy.dtype size changed, may indicate binary incompatibility. Expected 96, got 88\n",
      "  return f(*args, **kwds)\n",
      "/home/pacho/anaconda3/envs/jupyter3/lib/python3.5/importlib/_bootstrap.py:222: RuntimeWarning: numpy.dtype size changed, may indicate binary incompatibility. Expected 96, got 88\n",
      "  return f(*args, **kwds)\n",
      "/home/pacho/anaconda3/envs/jupyter3/lib/python3.5/importlib/_bootstrap.py:222: RuntimeWarning: numpy.dtype size changed, may indicate binary incompatibility. Expected 96, got 88\n",
      "  return f(*args, **kwds)\n",
      "/home/pacho/anaconda3/envs/jupyter3/lib/python3.5/importlib/_bootstrap.py:222: RuntimeWarning: numpy.dtype size changed, may indicate binary incompatibility. Expected 96, got 88\n",
      "  return f(*args, **kwds)\n",
      "/home/pacho/anaconda3/envs/jupyter3/lib/python3.5/importlib/_bootstrap.py:222: RuntimeWarning: numpy.dtype size changed, may indicate binary incompatibility. Expected 96, got 88\n",
      "  return f(*args, **kwds)\n",
      "/home/pacho/anaconda3/envs/jupyter3/lib/python3.5/importlib/_bootstrap.py:222: RuntimeWarning:\n",
      "\n",
      "numpy.dtype size changed, may indicate binary incompatibility. Expected 96, got 88\n",
      "\n"
     ]
    }
   ],
   "source": [
    "import pandas as pd\n",
    "import numpy as np\n",
    "import math\n",
    "from scipy import stats\n",
    "import matplotlib.pyplot as plt\n",
    "import matplotlib.dates as mdates\n",
    "import dateutil\n",
    "import statsmodels.api as sm\n",
    "from sklearn.metrics import mean_squared_error, mean_absolute_error\n",
    "from sklearn import linear_model\n",
    "from sklearn.preprocessing import MinMaxScaler\n",
    "import plotly.plotly as py\n",
    "import plotly.graph_objs as go\n",
    "import plotly.figure_factory as ff\n",
    "from scipy import stats"
   ]
  },
  {
   "cell_type": "markdown",
   "metadata": {
    "slideshow": {
     "slide_type": "slide"
    }
   },
   "source": [
    "# Carga y limpieza de datos"
   ]
  },
  {
   "cell_type": "code",
   "execution_count": 2,
   "metadata": {
    "slideshow": {
     "slide_type": "subslide"
    }
   },
   "outputs": [
    {
     "data": {
      "text/html": [
       "<div>\n",
       "<style scoped>\n",
       "    .dataframe tbody tr th:only-of-type {\n",
       "        vertical-align: middle;\n",
       "    }\n",
       "\n",
       "    .dataframe tbody tr th {\n",
       "        vertical-align: top;\n",
       "    }\n",
       "\n",
       "    .dataframe thead th {\n",
       "        text-align: right;\n",
       "    }\n",
       "</style>\n",
       "<table border=\"1\" class=\"dataframe\">\n",
       "  <thead>\n",
       "    <tr style=\"text-align: right;\">\n",
       "      <th></th>\n",
       "      <th>Valor DustTrack</th>\n",
       "      <th>Valor Honeywell</th>\n",
       "      <th>Hora</th>\n",
       "      <th>Unnamed: 3</th>\n",
       "    </tr>\n",
       "  </thead>\n",
       "  <tbody>\n",
       "    <tr>\n",
       "      <th>0</th>\n",
       "      <td>26</td>\n",
       "      <td>10</td>\n",
       "      <td>07:06:26</td>\n",
       "      <td>NaN</td>\n",
       "    </tr>\n",
       "    <tr>\n",
       "      <th>1</th>\n",
       "      <td>26</td>\n",
       "      <td>10</td>\n",
       "      <td>07:06:27</td>\n",
       "      <td>NaN</td>\n",
       "    </tr>\n",
       "    <tr>\n",
       "      <th>2</th>\n",
       "      <td>26</td>\n",
       "      <td>9</td>\n",
       "      <td>07:06:28</td>\n",
       "      <td>NaN</td>\n",
       "    </tr>\n",
       "    <tr>\n",
       "      <th>3</th>\n",
       "      <td>25</td>\n",
       "      <td>9</td>\n",
       "      <td>07:06:29</td>\n",
       "      <td>NaN</td>\n",
       "    </tr>\n",
       "    <tr>\n",
       "      <th>4</th>\n",
       "      <td>22</td>\n",
       "      <td>9</td>\n",
       "      <td>07:06:30</td>\n",
       "      <td>NaN</td>\n",
       "    </tr>\n",
       "  </tbody>\n",
       "</table>\n",
       "</div>"
      ],
      "text/plain": [
       "  Valor DustTrack Valor Honeywell      Hora Unnamed: 3\n",
       "0              26              10  07:06:26        NaN\n",
       "1              26              10  07:06:27        NaN\n",
       "2              26               9  07:06:28        NaN\n",
       "3              25               9  07:06:29        NaN\n",
       "4              22               9  07:06:30        NaN"
      ]
     },
     "execution_count": 2,
     "metadata": {},
     "output_type": "execute_result"
    }
   ],
   "source": [
    "df_start = pd.read_excel('../Data/Graficas DustTrack Honeywell 5sept comp.xlsx')\n",
    "df_start.head()"
   ]
  },
  {
   "cell_type": "code",
   "execution_count": 3,
   "metadata": {},
   "outputs": [],
   "source": [
    "# Eliminar nulos y headers repetidos\n",
    "\n",
    "df_start = df_start[~df_start['Valor DustTrack'].isna()]\n",
    "df_start = df_start[df_start.columns.values[:-1]]\n",
    "sum(df_start['Valor DustTrack'] == 'Valor DustTrack')\n",
    "df_start = df_start[np.logical_not(df_start['Valor DustTrack'] == 'Valor DustTrack')]\n",
    "\n",
    "df_start.index = np.arange(len(df_start))"
   ]
  },
  {
   "cell_type": "code",
   "execution_count": 4,
   "metadata": {},
   "outputs": [],
   "source": [
    "# Casting a variables numericas\n",
    "\n",
    "df_start[['Valor DustTrack', 'Valor Honeywell']] = df_start[['Valor DustTrack', 'Valor Honeywell']].apply(pd.to_numeric)"
   ]
  },
  {
   "cell_type": "code",
   "execution_count": 5,
   "metadata": {
    "scrolled": true
   },
   "outputs": [],
   "source": [
    "def plot_time_series(df, variables, filename):    \n",
    "    data = list()\n",
    "    for variable in variables:\n",
    "        data.append(go.Scatter(x = df.index,\n",
    "                                 y = df[variable],\n",
    "                                 name=variable))\n",
    "        \n",
    "    layout = go.Layout(title='DustTrack vs Honeywell',\n",
    "                       yaxis=dict(title='Pm 2.5 value'),\n",
    "                       xaxis=dict(title='N° Observation'))\n",
    "    fig = go.Figure(data=data, layout=layout)\n",
    "    plot_url = py.iplot(fig, filename=filename)\n",
    "    return plot_url\n",
    "    \n",
    "# Login plotly\n",
    "py.sign_in('FranciscoJavierOspinaSalazar', 'WLz5dfnwRjfo2cSwlRiL')"
   ]
  },
  {
   "cell_type": "markdown",
   "metadata": {},
   "source": [
    "# Visualización inicial de los datos y exploraciones univariadas"
   ]
  },
  {
   "cell_type": "code",
   "execution_count": 6,
   "metadata": {
    "scrolled": false,
    "slideshow": {
     "slide_type": "slide"
    }
   },
   "outputs": [
    {
     "name": "stdout",
     "output_type": "stream",
     "text": [
      "High five! You successfully sent some data to your account on plotly. View your plot in your browser at https://plot.ly/~FranciscoJavierOspinaSalazar/0 or inside your plot.ly account where it is named 'Comparison_sensors'\n"
     ]
    },
    {
     "data": {
      "text/html": [
       "<iframe id=\"igraph\" scrolling=\"no\" style=\"border:none;\" seamless=\"seamless\" src=\"https://plot.ly/~FranciscoJavierOspinaSalazar/0.embed\" height=\"525px\" width=\"100%\"></iframe>"
      ],
      "text/plain": [
       "<plotly.tools.PlotlyDisplay object>"
      ]
     },
     "execution_count": 6,
     "metadata": {},
     "output_type": "execute_result"
    }
   ],
   "source": [
    "plot_time_series(df=df_start, variables=['Valor DustTrack', 'Valor Honeywell'], filename='Comparison_sensors')"
   ]
  },
  {
   "cell_type": "markdown",
   "metadata": {},
   "source": [
    "## Boxplot de ambas mediciones"
   ]
  },
  {
   "cell_type": "code",
   "execution_count": 7,
   "metadata": {},
   "outputs": [],
   "source": [
    "def build_boxplot(df, variables, filename):\n",
    "    if isinstance(variables, str):\n",
    "        variables = [variables]\n",
    "    data = list()\n",
    "    for variable in variables:\n",
    "        data.append(go.Box(y = df[variable],\n",
    "                           name=variable))\n",
    "        \n",
    "    layout = go.Layout(title='Boxplot',\n",
    "                       yaxis=dict(title='Pm 2.5 value'))\n",
    "    fig = go.Figure(data=data, layout=layout)\n",
    "    plot_url = py.iplot(fig, filename=filename)\n",
    "    return plot_url\n",
    "    "
   ]
  },
  {
   "cell_type": "code",
   "execution_count": 8,
   "metadata": {},
   "outputs": [
    {
     "data": {
      "text/html": [
       "<iframe id=\"igraph\" scrolling=\"no\" style=\"border:none;\" seamless=\"seamless\" src=\"https://plot.ly/~FranciscoJavierOspinaSalazar/2.embed\" height=\"525px\" width=\"100%\"></iframe>"
      ],
      "text/plain": [
       "<plotly.tools.PlotlyDisplay object>"
      ]
     },
     "execution_count": 8,
     "metadata": {},
     "output_type": "execute_result"
    }
   ],
   "source": [
    "build_boxplot(df=df_start, variables='Valor DustTrack', filename='Boxplot_DustTrack')"
   ]
  },
  {
   "cell_type": "code",
   "execution_count": 9,
   "metadata": {},
   "outputs": [
    {
     "data": {
      "text/html": [
       "<iframe id=\"igraph\" scrolling=\"no\" style=\"border:none;\" seamless=\"seamless\" src=\"https://plot.ly/~FranciscoJavierOspinaSalazar/4.embed\" height=\"525px\" width=\"100%\"></iframe>"
      ],
      "text/plain": [
       "<plotly.tools.PlotlyDisplay object>"
      ]
     },
     "execution_count": 9,
     "metadata": {},
     "output_type": "execute_result"
    }
   ],
   "source": [
    "build_boxplot(df=df_start, variables='Valor Honeywell', filename='Boxplot_Honeywell')"
   ]
  },
  {
   "cell_type": "code",
   "execution_count": 10,
   "metadata": {},
   "outputs": [
    {
     "data": {
      "text/html": [
       "<iframe id=\"igraph\" scrolling=\"no\" style=\"border:none;\" seamless=\"seamless\" src=\"https://plot.ly/~FranciscoJavierOspinaSalazar/6.embed\" height=\"525px\" width=\"100%\"></iframe>"
      ],
      "text/plain": [
       "<plotly.tools.PlotlyDisplay object>"
      ]
     },
     "execution_count": 10,
     "metadata": {},
     "output_type": "execute_result"
    }
   ],
   "source": [
    "build_boxplot(df=df_start, variables=['Valor DustTrack', 'Valor Honeywell'], filename='Boxplot_Comparison1')"
   ]
  },
  {
   "cell_type": "markdown",
   "metadata": {},
   "source": [
    "# Remoción de outliers"
   ]
  },
  {
   "cell_type": "code",
   "execution_count": 11,
   "metadata": {},
   "outputs": [],
   "source": [
    "df = df_start.copy()\n",
    "df = df[np.logical_not(np.logical_or(df['Valor Honeywell'] > 90, df['Valor DustTrack'] > 492))]"
   ]
  },
  {
   "cell_type": "markdown",
   "metadata": {},
   "source": [
    "# Suavizamiento de serie con medias móviles\n",
    "\n",
    "La descripción de las médias móviles y su uso para suavizar picos en series de tiempo se encuentra en [http://www.expansion.com/diccionario-economico/media-movil.html](http://www.expansion.com/diccionario-economico/media-movil.html)"
   ]
  },
  {
   "cell_type": "code",
   "execution_count": 12,
   "metadata": {},
   "outputs": [],
   "source": [
    "n_movil_mean = 20\n",
    "movil_mean = df[['Valor DustTrack', 'Valor Honeywell']].rolling(n_movil_mean).mean()\n",
    "movil_mean.columns = ['Mm_DustTrack', 'Mm_Honeywell']\n",
    "movil_mean = movil_mean.loc[n_movil_mean - 1:]"
   ]
  },
  {
   "cell_type": "code",
   "execution_count": 13,
   "metadata": {},
   "outputs": [],
   "source": [
    "## Reescalamiento de los datos con la función Logaritmo"
   ]
  },
  {
   "cell_type": "code",
   "execution_count": 14,
   "metadata": {},
   "outputs": [
    {
     "data": {
      "text/html": [
       "<div>\n",
       "<style scoped>\n",
       "    .dataframe tbody tr th:only-of-type {\n",
       "        vertical-align: middle;\n",
       "    }\n",
       "\n",
       "    .dataframe tbody tr th {\n",
       "        vertical-align: top;\n",
       "    }\n",
       "\n",
       "    .dataframe thead th {\n",
       "        text-align: right;\n",
       "    }\n",
       "</style>\n",
       "<table border=\"1\" class=\"dataframe\">\n",
       "  <thead>\n",
       "    <tr style=\"text-align: right;\">\n",
       "      <th></th>\n",
       "      <th>Mm_DustTrack</th>\n",
       "      <th>Mm_Honeywell</th>\n",
       "      <th>Log10_DustTrack</th>\n",
       "      <th>Log10_Honeywell</th>\n",
       "    </tr>\n",
       "  </thead>\n",
       "  <tbody>\n",
       "    <tr>\n",
       "      <th>0</th>\n",
       "      <td>22.60</td>\n",
       "      <td>8.40</td>\n",
       "      <td>1.354108</td>\n",
       "      <td>0.924279</td>\n",
       "    </tr>\n",
       "    <tr>\n",
       "      <th>1</th>\n",
       "      <td>22.15</td>\n",
       "      <td>8.25</td>\n",
       "      <td>1.345374</td>\n",
       "      <td>0.916454</td>\n",
       "    </tr>\n",
       "    <tr>\n",
       "      <th>2</th>\n",
       "      <td>21.80</td>\n",
       "      <td>8.10</td>\n",
       "      <td>1.338456</td>\n",
       "      <td>0.908485</td>\n",
       "    </tr>\n",
       "    <tr>\n",
       "      <th>3</th>\n",
       "      <td>21.55</td>\n",
       "      <td>8.00</td>\n",
       "      <td>1.333447</td>\n",
       "      <td>0.903090</td>\n",
       "    </tr>\n",
       "    <tr>\n",
       "      <th>4</th>\n",
       "      <td>21.45</td>\n",
       "      <td>7.90</td>\n",
       "      <td>1.331427</td>\n",
       "      <td>0.897627</td>\n",
       "    </tr>\n",
       "  </tbody>\n",
       "</table>\n",
       "</div>"
      ],
      "text/plain": [
       "   Mm_DustTrack  Mm_Honeywell  Log10_DustTrack  Log10_Honeywell\n",
       "0         22.60          8.40         1.354108         0.924279\n",
       "1         22.15          8.25         1.345374         0.916454\n",
       "2         21.80          8.10         1.338456         0.908485\n",
       "3         21.55          8.00         1.333447         0.903090\n",
       "4         21.45          7.90         1.331427         0.897627"
      ]
     },
     "execution_count": 14,
     "metadata": {},
     "output_type": "execute_result"
    }
   ],
   "source": [
    "movil_mean = movil_mean.assign(Log10_DustTrack=np.log10(movil_mean['Mm_DustTrack']))\n",
    "movil_mean = movil_mean.assign(Log10_Honeywell=np.log10(movil_mean['Mm_Honeywell']))\n",
    "movil_mean.index = np.arange(len(movil_mean))\n",
    "movil_mean.head()"
   ]
  },
  {
   "cell_type": "code",
   "execution_count": 15,
   "metadata": {},
   "outputs": [
    {
     "data": {
      "text/html": [
       "<iframe id=\"igraph\" scrolling=\"no\" style=\"border:none;\" seamless=\"seamless\" src=\"https://plot.ly/~FranciscoJavierOspinaSalazar/8.embed\" height=\"525px\" width=\"100%\"></iframe>"
      ],
      "text/plain": [
       "<plotly.tools.PlotlyDisplay object>"
      ]
     },
     "execution_count": 15,
     "metadata": {},
     "output_type": "execute_result"
    }
   ],
   "source": [
    "plot_time_series(df=movil_mean, variables=['Mm_DustTrack', 'Mm_Honeywell'], filename='serie_movil')"
   ]
  },
  {
   "cell_type": "markdown",
   "metadata": {},
   "source": [
    "Con el suavizamiento se suprimieron los picos que superaban 2000 en el eje y"
   ]
  },
  {
   "cell_type": "code",
   "execution_count": 16,
   "metadata": {},
   "outputs": [
    {
     "data": {
      "text/html": [
       "<iframe id=\"igraph\" scrolling=\"no\" style=\"border:none;\" seamless=\"seamless\" src=\"https://plot.ly/~FranciscoJavierOspinaSalazar/10.embed\" height=\"525px\" width=\"100%\"></iframe>"
      ],
      "text/plain": [
       "<plotly.tools.PlotlyDisplay object>"
      ]
     },
     "execution_count": 16,
     "metadata": {},
     "output_type": "execute_result"
    }
   ],
   "source": [
    "plot_time_series(df=movil_mean, variables=['Log10_DustTrack', 'Log10_Honeywell'], filename='log10_serie_movil')"
   ]
  },
  {
   "cell_type": "code",
   "execution_count": 17,
   "metadata": {},
   "outputs": [
    {
     "data": {
      "text/html": [
       "<iframe id=\"igraph\" scrolling=\"no\" style=\"border:none;\" seamless=\"seamless\" src=\"https://plot.ly/~FranciscoJavierOspinaSalazar/12.embed\" height=\"525px\" width=\"100%\"></iframe>"
      ],
      "text/plain": [
       "<plotly.tools.PlotlyDisplay object>"
      ]
     },
     "execution_count": 17,
     "metadata": {},
     "output_type": "execute_result"
    }
   ],
   "source": [
    "build_boxplot(df=movil_mean, variables=['Log10_DustTrack', 'Log10_Honeywell'], filename='Bloxplot_log10')"
   ]
  },
  {
   "cell_type": "markdown",
   "metadata": {},
   "source": [
    "## Partición de la base de datos en traint test"
   ]
  },
  {
   "cell_type": "code",
   "execution_count": 18,
   "metadata": {},
   "outputs": [],
   "source": [
    "size_train = int(len(movil_mean) * .7)\n",
    "index_train = np.random.choice(np.arange(len(movil_mean)), size=size_train, replace=False)\n",
    "index_test = np.setdiff1d(np.arange(len(movil_mean)), index_train)\n",
    "df_train = movil_mean.iloc[index_train]\n",
    "df_test = movil_mean.iloc[index_test]\n",
    "df_train = df_train.sort_index()\n",
    "df_test = df_test.sort_index()"
   ]
  },
  {
   "cell_type": "markdown",
   "metadata": {},
   "source": [
    "## Escalamiento de los datos "
   ]
  },
  {
   "cell_type": "code",
   "execution_count": 19,
   "metadata": {},
   "outputs": [
    {
     "data": {
      "text/html": [
       "<div>\n",
       "<style scoped>\n",
       "    .dataframe tbody tr th:only-of-type {\n",
       "        vertical-align: middle;\n",
       "    }\n",
       "\n",
       "    .dataframe tbody tr th {\n",
       "        vertical-align: top;\n",
       "    }\n",
       "\n",
       "    .dataframe thead th {\n",
       "        text-align: right;\n",
       "    }\n",
       "</style>\n",
       "<table border=\"1\" class=\"dataframe\">\n",
       "  <thead>\n",
       "    <tr style=\"text-align: right;\">\n",
       "      <th></th>\n",
       "      <th>Mm_DustTrack</th>\n",
       "      <th>Mm_Honeywell</th>\n",
       "      <th>Log10_DustTrack</th>\n",
       "      <th>Log10_Honeywell</th>\n",
       "      <th>scaled_DustTrack</th>\n",
       "      <th>scaled_Honeywell</th>\n",
       "    </tr>\n",
       "  </thead>\n",
       "  <tbody>\n",
       "    <tr>\n",
       "      <th>0</th>\n",
       "      <td>22.60</td>\n",
       "      <td>8.40</td>\n",
       "      <td>1.354108</td>\n",
       "      <td>0.924279</td>\n",
       "      <td>0.040109</td>\n",
       "      <td>0.078555</td>\n",
       "    </tr>\n",
       "    <tr>\n",
       "      <th>2</th>\n",
       "      <td>21.80</td>\n",
       "      <td>8.10</td>\n",
       "      <td>1.338456</td>\n",
       "      <td>0.908485</td>\n",
       "      <td>0.038361</td>\n",
       "      <td>0.075115</td>\n",
       "    </tr>\n",
       "    <tr>\n",
       "      <th>5</th>\n",
       "      <td>21.40</td>\n",
       "      <td>7.75</td>\n",
       "      <td>1.330414</td>\n",
       "      <td>0.889302</td>\n",
       "      <td>0.037486</td>\n",
       "      <td>0.071101</td>\n",
       "    </tr>\n",
       "    <tr>\n",
       "      <th>7</th>\n",
       "      <td>22.65</td>\n",
       "      <td>7.45</td>\n",
       "      <td>1.355068</td>\n",
       "      <td>0.872156</td>\n",
       "      <td>0.040219</td>\n",
       "      <td>0.067661</td>\n",
       "    </tr>\n",
       "    <tr>\n",
       "      <th>9</th>\n",
       "      <td>23.10</td>\n",
       "      <td>7.20</td>\n",
       "      <td>1.363612</td>\n",
       "      <td>0.857332</td>\n",
       "      <td>0.041202</td>\n",
       "      <td>0.064794</td>\n",
       "    </tr>\n",
       "  </tbody>\n",
       "</table>\n",
       "</div>"
      ],
      "text/plain": [
       "   Mm_DustTrack  Mm_Honeywell  Log10_DustTrack  Log10_Honeywell  \\\n",
       "0         22.60          8.40         1.354108         0.924279   \n",
       "2         21.80          8.10         1.338456         0.908485   \n",
       "5         21.40          7.75         1.330414         0.889302   \n",
       "7         22.65          7.45         1.355068         0.872156   \n",
       "9         23.10          7.20         1.363612         0.857332   \n",
       "\n",
       "   scaled_DustTrack  scaled_Honeywell  \n",
       "0          0.040109          0.078555  \n",
       "2          0.038361          0.075115  \n",
       "5          0.037486          0.071101  \n",
       "7          0.040219          0.067661  \n",
       "9          0.041202          0.064794  "
      ]
     },
     "execution_count": 19,
     "metadata": {},
     "output_type": "execute_result"
    }
   ],
   "source": [
    "scaler_dt = MinMaxScaler()\n",
    "scaler_dt.fit(df_train['Mm_DustTrack'].values.reshape(-1, 1))\n",
    "scaled_DustTrack_train = scaler_dt.transform(df_train['Mm_DustTrack'].values.reshape(-1,1))\n",
    "scaled_DustTrack_test = scaler_dt.transform(df_test['Mm_DustTrack'].values.reshape(-1,1))\n",
    "\n",
    "scaler_hw = MinMaxScaler()\n",
    "scaler_hw.fit(df_train['Mm_Honeywell'].values.reshape(-1, 1))\n",
    "scaled_Honeywell_train = scaler_hw.transform(df_train['Mm_Honeywell'].values.reshape(-1,1))\n",
    "scaled_Honeywell_test = scaler_hw.transform(df_test['Mm_Honeywell'].values.reshape(-1,1))\n",
    "\n",
    "df_train = df_train.assign(scaled_DustTrack=scaled_DustTrack_train)\n",
    "df_train = df_train.assign(scaled_Honeywell=scaled_Honeywell_train)\n",
    "df_test = df_test.assign(scaled_DustTrack=scaled_DustTrack_test)\n",
    "df_test = df_test.assign(scaled_Honeywell=scaled_Honeywell_test)\n",
    "movil_mean = movil_mean.assign()\n",
    "\n",
    "df_train.head()"
   ]
  },
  {
   "cell_type": "code",
   "execution_count": 20,
   "metadata": {},
   "outputs": [
    {
     "data": {
      "text/html": [
       "<iframe id=\"igraph\" scrolling=\"no\" style=\"border:none;\" seamless=\"seamless\" src=\"https://plot.ly/~FranciscoJavierOspinaSalazar/12.embed\" height=\"525px\" width=\"100%\"></iframe>"
      ],
      "text/plain": [
       "<plotly.tools.PlotlyDisplay object>"
      ]
     },
     "execution_count": 20,
     "metadata": {},
     "output_type": "execute_result"
    }
   ],
   "source": [
    "build_boxplot(df=df_train, variables=['scaled_DustTrack', 'scaled_Honeywell'], filename='Bloxplot_log10')"
   ]
  },
  {
   "cell_type": "markdown",
   "metadata": {},
   "source": [
    "# Correlación lineal de Pearson \n",
    "\n",
    "[https://es.wikipedia.org/wiki/Coeficiente_de_correlaci%C3%B3n_de_Pearson](https://es.wikipedia.org/wiki/Coeficiente_de_correlaci%C3%B3n_de_Pearson)\n",
    "\n",
    "Debido a que solo son dos variables si la correlación de pearson es alta se pueden hacer modelos que intenten generar la variable **Valor DustTrack** a partir de **Valor Honeywell**."
   ]
  },
  {
   "cell_type": "code",
   "execution_count": 21,
   "metadata": {},
   "outputs": [
    {
     "data": {
      "text/plain": [
       "0.977387144188508"
      ]
     },
     "execution_count": 21,
     "metadata": {},
     "output_type": "execute_result"
    }
   ],
   "source": [
    "# Coeficinte de correlación sobre las variables transformadas por logaritmos de las\n",
    "# series suavizadas por las media móviles\n",
    "stats.pearsonr(df_train['Log10_DustTrack'], df_train['Log10_Honeywell'])[0]"
   ]
  },
  {
   "cell_type": "code",
   "execution_count": 22,
   "metadata": {},
   "outputs": [
    {
     "data": {
      "text/plain": [
       "0.973157336766973"
      ]
     },
     "execution_count": 22,
     "metadata": {},
     "output_type": "execute_result"
    }
   ],
   "source": [
    "stats.pearsonr(df_train['scaled_DustTrack'], df_train['scaled_Honeywell'])[0]"
   ]
  },
  {
   "cell_type": "markdown",
   "metadata": {},
   "source": [
    "Tanto en la gráfica de la serie de tiempo como en la correlación, estas son las mejores variables hasta el momento para el modelo. "
   ]
  },
  {
   "cell_type": "markdown",
   "metadata": {},
   "source": [
    "# Construcción de modelos"
   ]
  },
  {
   "cell_type": "code",
   "execution_count": 23,
   "metadata": {},
   "outputs": [
    {
     "data": {
      "text/plain": [
       "LinearRegression(copy_X=True, fit_intercept=True, n_jobs=1, normalize=False)"
      ]
     },
     "execution_count": 23,
     "metadata": {},
     "output_type": "execute_result"
    }
   ],
   "source": [
    "model_min_max_scaler = linear_model.LinearRegression(fit_intercept=True)\n",
    "model_log_scaler = linear_model.LinearRegression(fit_intercept=True)\n",
    "model_min_max_scaler.fit(X=df_train['scaled_Honeywell'].values.reshape(-1,1), y=df_train['scaled_DustTrack'].values.reshape(-1,1), )\n",
    "model_log_scaler.fit(X=df_train['Log10_Honeywell'].values.reshape(-1,1), y=df_train['Log10_DustTrack'].values.reshape(-1,1))"
   ]
  },
  {
   "cell_type": "markdown",
   "metadata": {},
   "source": [
    "## Párametros de los modelos"
   ]
  },
  {
   "cell_type": "code",
   "execution_count": 24,
   "metadata": {},
   "outputs": [
    {
     "name": "stdout",
     "output_type": "stream",
     "text": [
      "Parameters model with log scaler. Coef = 1.1690681431361163, Intercept = 0.4163977469816482\n",
      "Parameters model with min_max scaler. Coef = 1.028125900448871, Intercept = -0.025268098493561097\n"
     ]
    }
   ],
   "source": [
    "print('Parameters model with log scaler. Coef = {}, Intercept = {}'.format(model_log_scaler.coef_[0][0], model_log_scaler.intercept_[0]))\n",
    "print('Parameters model with min_max scaler. Coef = {}, Intercept = {}'.format(model_min_max_scaler.coef_[0][0], model_min_max_scaler.intercept_[0]))"
   ]
  },
  {
   "cell_type": "markdown",
   "metadata": {},
   "source": [
    "## Append de predicciones a las series suavizadas"
   ]
  },
  {
   "cell_type": "code",
   "execution_count": 25,
   "metadata": {},
   "outputs": [
    {
     "data": {
      "text/html": [
       "<div>\n",
       "<style scoped>\n",
       "    .dataframe tbody tr th:only-of-type {\n",
       "        vertical-align: middle;\n",
       "    }\n",
       "\n",
       "    .dataframe tbody tr th {\n",
       "        vertical-align: top;\n",
       "    }\n",
       "\n",
       "    .dataframe thead th {\n",
       "        text-align: right;\n",
       "    }\n",
       "</style>\n",
       "<table border=\"1\" class=\"dataframe\">\n",
       "  <thead>\n",
       "    <tr style=\"text-align: right;\">\n",
       "      <th></th>\n",
       "      <th>Mm_DustTrack</th>\n",
       "      <th>Mm_Honeywell</th>\n",
       "      <th>Log10_DustTrack</th>\n",
       "      <th>Log10_Honeywell</th>\n",
       "      <th>scaled_DustTrack</th>\n",
       "      <th>scaled_Honeywell</th>\n",
       "      <th>pred_min_max_scaler</th>\n",
       "      <th>pred_log_scaler</th>\n",
       "    </tr>\n",
       "  </thead>\n",
       "  <tbody>\n",
       "    <tr>\n",
       "      <th>1</th>\n",
       "      <td>22.15</td>\n",
       "      <td>8.25</td>\n",
       "      <td>1.345374</td>\n",
       "      <td>0.916454</td>\n",
       "      <td>0.039126</td>\n",
       "      <td>0.076835</td>\n",
       "      <td>28.830475</td>\n",
       "      <td>30.746442</td>\n",
       "    </tr>\n",
       "    <tr>\n",
       "      <th>3</th>\n",
       "      <td>21.55</td>\n",
       "      <td>8.00</td>\n",
       "      <td>1.333447</td>\n",
       "      <td>0.903090</td>\n",
       "      <td>0.037814</td>\n",
       "      <td>0.073968</td>\n",
       "      <td>27.481944</td>\n",
       "      <td>29.660023</td>\n",
       "    </tr>\n",
       "    <tr>\n",
       "      <th>4</th>\n",
       "      <td>21.45</td>\n",
       "      <td>7.90</td>\n",
       "      <td>1.331427</td>\n",
       "      <td>0.897627</td>\n",
       "      <td>0.037596</td>\n",
       "      <td>0.072821</td>\n",
       "      <td>26.942531</td>\n",
       "      <td>29.227050</td>\n",
       "    </tr>\n",
       "    <tr>\n",
       "      <th>6</th>\n",
       "      <td>21.80</td>\n",
       "      <td>7.60</td>\n",
       "      <td>1.338456</td>\n",
       "      <td>0.880814</td>\n",
       "      <td>0.038361</td>\n",
       "      <td>0.069381</td>\n",
       "      <td>25.324294</td>\n",
       "      <td>27.933725</td>\n",
       "    </tr>\n",
       "    <tr>\n",
       "      <th>8</th>\n",
       "      <td>22.95</td>\n",
       "      <td>7.30</td>\n",
       "      <td>1.360783</td>\n",
       "      <td>0.863323</td>\n",
       "      <td>0.040874</td>\n",
       "      <td>0.065940</td>\n",
       "      <td>23.706057</td>\n",
       "      <td>26.649005</td>\n",
       "    </tr>\n",
       "  </tbody>\n",
       "</table>\n",
       "</div>"
      ],
      "text/plain": [
       "   Mm_DustTrack  Mm_Honeywell  Log10_DustTrack  Log10_Honeywell  \\\n",
       "1         22.15          8.25         1.345374         0.916454   \n",
       "3         21.55          8.00         1.333447         0.903090   \n",
       "4         21.45          7.90         1.331427         0.897627   \n",
       "6         21.80          7.60         1.338456         0.880814   \n",
       "8         22.95          7.30         1.360783         0.863323   \n",
       "\n",
       "   scaled_DustTrack  scaled_Honeywell  pred_min_max_scaler  pred_log_scaler  \n",
       "1          0.039126          0.076835            28.830475        30.746442  \n",
       "3          0.037814          0.073968            27.481944        29.660023  \n",
       "4          0.037596          0.072821            26.942531        29.227050  \n",
       "6          0.038361          0.069381            25.324294        27.933725  \n",
       "8          0.040874          0.065940            23.706057        26.649005  "
      ]
     },
     "execution_count": 25,
     "metadata": {},
     "output_type": "execute_result"
    }
   ],
   "source": [
    "pred_min_max_scaler_train = scaler_dt.inverse_transform(model_min_max_scaler.predict(df_train['scaled_Honeywell'].values.reshape(-1,1)).reshape(-1,1))\n",
    "pred_log_scaler_train = np.power(10, model_log_scaler.predict(df_train['Log10_Honeywell'].values.reshape(-1,1)).reshape(-1,1))\n",
    "\n",
    "df_train = df_train.assign(pred_min_max_scaler=pred_min_max_scaler_train)\n",
    "df_train = df_train.assign(pred_log_scaler=pred_log_scaler_train)\n",
    "\n",
    "pred_min_max_scaler_test= scaler_dt.inverse_transform(model_min_max_scaler.predict(df_test['scaled_Honeywell'].values.reshape(-1,1)).reshape(-1,1))\n",
    "pred_log_scaler_test = np.power(10, model_log_scaler.predict(df_test['Log10_Honeywell'].values.reshape(-1,1)).reshape(-1,1))\n",
    "\n",
    "df_test = df_test.assign(pred_min_max_scaler=pred_min_max_scaler_test)\n",
    "df_test = df_test.assign(pred_log_scaler=pred_log_scaler_test)\n",
    "\n",
    "df_test.head()"
   ]
  },
  {
   "cell_type": "markdown",
   "metadata": {},
   "source": [
    "## Append de predicciones a las series sin suaizar"
   ]
  },
  {
   "cell_type": "code",
   "execution_count": 26,
   "metadata": {
    "scrolled": true
   },
   "outputs": [
    {
     "data": {
      "text/html": [
       "<div>\n",
       "<style scoped>\n",
       "    .dataframe tbody tr th:only-of-type {\n",
       "        vertical-align: middle;\n",
       "    }\n",
       "\n",
       "    .dataframe tbody tr th {\n",
       "        vertical-align: top;\n",
       "    }\n",
       "\n",
       "    .dataframe thead th {\n",
       "        text-align: right;\n",
       "    }\n",
       "</style>\n",
       "<table border=\"1\" class=\"dataframe\">\n",
       "  <thead>\n",
       "    <tr style=\"text-align: right;\">\n",
       "      <th></th>\n",
       "      <th>Valor DustTrack</th>\n",
       "      <th>Valor Honeywell</th>\n",
       "      <th>Hora</th>\n",
       "      <th>pred_log_scaler</th>\n",
       "      <th>scaled_Honeywell</th>\n",
       "      <th>pred_min_max_scaler</th>\n",
       "    </tr>\n",
       "  </thead>\n",
       "  <tbody>\n",
       "    <tr>\n",
       "      <th>0</th>\n",
       "      <td>26</td>\n",
       "      <td>10</td>\n",
       "      <td>07:06:26</td>\n",
       "      <td>38.500457</td>\n",
       "      <td>0.096904</td>\n",
       "      <td>38.270191</td>\n",
       "    </tr>\n",
       "    <tr>\n",
       "      <th>1</th>\n",
       "      <td>26</td>\n",
       "      <td>10</td>\n",
       "      <td>07:06:27</td>\n",
       "      <td>38.500457</td>\n",
       "      <td>0.096904</td>\n",
       "      <td>38.270191</td>\n",
       "    </tr>\n",
       "    <tr>\n",
       "      <th>2</th>\n",
       "      <td>26</td>\n",
       "      <td>9</td>\n",
       "      <td>07:06:28</td>\n",
       "      <td>34.038645</td>\n",
       "      <td>0.085436</td>\n",
       "      <td>32.876068</td>\n",
       "    </tr>\n",
       "    <tr>\n",
       "      <th>3</th>\n",
       "      <td>25</td>\n",
       "      <td>9</td>\n",
       "      <td>07:06:29</td>\n",
       "      <td>34.038645</td>\n",
       "      <td>0.085436</td>\n",
       "      <td>32.876068</td>\n",
       "    </tr>\n",
       "    <tr>\n",
       "      <th>4</th>\n",
       "      <td>22</td>\n",
       "      <td>9</td>\n",
       "      <td>07:06:30</td>\n",
       "      <td>34.038645</td>\n",
       "      <td>0.085436</td>\n",
       "      <td>32.876068</td>\n",
       "    </tr>\n",
       "  </tbody>\n",
       "</table>\n",
       "</div>"
      ],
      "text/plain": [
       "   Valor DustTrack  Valor Honeywell      Hora  pred_log_scaler  \\\n",
       "0               26               10  07:06:26        38.500457   \n",
       "1               26               10  07:06:27        38.500457   \n",
       "2               26                9  07:06:28        34.038645   \n",
       "3               25                9  07:06:29        34.038645   \n",
       "4               22                9  07:06:30        34.038645   \n",
       "\n",
       "   scaled_Honeywell  pred_min_max_scaler  \n",
       "0          0.096904            38.270191  \n",
       "1          0.096904            38.270191  \n",
       "2          0.085436            32.876068  \n",
       "3          0.085436            32.876068  \n",
       "4          0.085436            32.876068  "
      ]
     },
     "execution_count": 26,
     "metadata": {},
     "output_type": "execute_result"
    }
   ],
   "source": [
    "df_start = df_start.assign(pred_log_scaler=np.power(10, model_log_scaler.predict(np.log10(df_start['Valor Honeywell']).values.reshape(-1,1)).reshape(-1,1)))\n",
    "\n",
    "scaled_Honeywell = scaler_hw.transform(df_start['Valor Honeywell'].values.reshape(-1,1))\n",
    "df_start = df_start.assign(scaled_Honeywell=scaled_Honeywell)\n",
    "pred_min_max_scaler = scaler_dt.inverse_transform(model_min_max_scaler.predict(df_start['scaled_Honeywell'].values.reshape(-1,1)).reshape(-1,1))\n",
    "df_start = df_start.assign(pred_min_max_scaler=pred_min_max_scaler)\n",
    "df_start.head()"
   ]
  },
  {
   "cell_type": "markdown",
   "metadata": {},
   "source": [
    "# Plots del valor real vs la predicción del modelo (sobre serie suavizada / train)"
   ]
  },
  {
   "cell_type": "code",
   "execution_count": 28,
   "metadata": {
    "scrolled": true
   },
   "outputs": [
    {
     "data": {
      "text/html": [
       "<iframe id=\"igraph\" scrolling=\"no\" style=\"border:none;\" seamless=\"seamless\" src=\"https://plot.ly/~FranciscoJavierOspinaSalazar/14.embed\" height=\"525px\" width=\"100%\"></iframe>"
      ],
      "text/plain": [
       "<plotly.tools.PlotlyDisplay object>"
      ]
     },
     "execution_count": 28,
     "metadata": {},
     "output_type": "execute_result"
    }
   ],
   "source": [
    "plot_time_series(df=df_train, \n",
    "                 variables=['pred_min_max_scaler', 'pred_log_scaler', 'Mm_DustTrack'], \n",
    "                 filename='Predictions_01')"
   ]
  },
  {
   "cell_type": "markdown",
   "metadata": {},
   "source": [
    "# Plots del valor real vs la predicción del modelo (sobre serie suavizada / test)"
   ]
  },
  {
   "cell_type": "code",
   "execution_count": 29,
   "metadata": {},
   "outputs": [
    {
     "data": {
      "text/html": [
       "<iframe id=\"igraph\" scrolling=\"no\" style=\"border:none;\" seamless=\"seamless\" src=\"https://plot.ly/~FranciscoJavierOspinaSalazar/16.embed\" height=\"525px\" width=\"100%\"></iframe>"
      ],
      "text/plain": [
       "<plotly.tools.PlotlyDisplay object>"
      ]
     },
     "execution_count": 29,
     "metadata": {},
     "output_type": "execute_result"
    }
   ],
   "source": [
    "plot_time_series(df=df_test, \n",
    "                 variables=['pred_min_max_scaler', 'pred_log_scaler', 'Mm_DustTrack'], \n",
    "                 filename='Predictions_02')"
   ]
  },
  {
   "cell_type": "code",
   "execution_count": 30,
   "metadata": {},
   "outputs": [
    {
     "name": "stdout",
     "output_type": "stream",
     "text": [
      "The draw time for this plot will be slow for clients without much RAM.\n"
     ]
    },
    {
     "name": "stderr",
     "output_type": "stream",
     "text": [
      "/home/pacho/anaconda3/envs/jupyter3/lib/python3.5/site-packages/plotly/api/v1/clientresp.py:40: UserWarning:\n",
      "\n",
      "Estimated Draw Time Slow\n",
      "\n"
     ]
    },
    {
     "data": {
      "text/html": [
       "<iframe id=\"igraph\" scrolling=\"no\" style=\"border:none;\" seamless=\"seamless\" src=\"https://plot.ly/~FranciscoJavierOspinaSalazar/18.embed\" height=\"525px\" width=\"100%\"></iframe>"
      ],
      "text/plain": [
       "<plotly.tools.PlotlyDisplay object>"
      ]
     },
     "execution_count": 30,
     "metadata": {},
     "output_type": "execute_result"
    }
   ],
   "source": [
    "plot_time_series(df=df_start, \n",
    "                 variables=['pred_min_max_scaler', 'pred_log_scaler', 'Valor DustTrack'], \n",
    "                 filename='Predictions_03')"
   ]
  },
  {
   "cell_type": "markdown",
   "metadata": {},
   "source": [
    "# Errores de la predicción vs el valor real"
   ]
  },
  {
   "cell_type": "code",
   "execution_count": 31,
   "metadata": {},
   "outputs": [
    {
     "data": {
      "text/html": [
       "<div>\n",
       "<style scoped>\n",
       "    .dataframe tbody tr th:only-of-type {\n",
       "        vertical-align: middle;\n",
       "    }\n",
       "\n",
       "    .dataframe tbody tr th {\n",
       "        vertical-align: top;\n",
       "    }\n",
       "\n",
       "    .dataframe thead th {\n",
       "        text-align: right;\n",
       "    }\n",
       "</style>\n",
       "<table border=\"1\" class=\"dataframe\">\n",
       "  <thead>\n",
       "    <tr style=\"text-align: right;\">\n",
       "      <th></th>\n",
       "      <th>Train Data</th>\n",
       "      <th>Test Data</th>\n",
       "      <th>Original Data</th>\n",
       "    </tr>\n",
       "  </thead>\n",
       "  <tbody>\n",
       "    <tr>\n",
       "      <th>Log10 transform MSE</th>\n",
       "      <td>621.486917</td>\n",
       "      <td>633.921876</td>\n",
       "      <td>3187.670520</td>\n",
       "    </tr>\n",
       "    <tr>\n",
       "      <th>Min_max transform MSE</th>\n",
       "      <td>594.730273</td>\n",
       "      <td>613.857632</td>\n",
       "      <td>3137.811488</td>\n",
       "    </tr>\n",
       "    <tr>\n",
       "      <th>Log10 transform MAE</th>\n",
       "      <td>17.327988</td>\n",
       "      <td>17.479541</td>\n",
       "      <td>26.216892</td>\n",
       "    </tr>\n",
       "    <tr>\n",
       "      <th>Min_max transform MAE</th>\n",
       "      <td>17.616325</td>\n",
       "      <td>17.860014</td>\n",
       "      <td>26.360610</td>\n",
       "    </tr>\n",
       "  </tbody>\n",
       "</table>\n",
       "</div>"
      ],
      "text/plain": [
       "                       Train Data   Test Data  Original Data\n",
       "Log10 transform MSE    621.486917  633.921876    3187.670520\n",
       "Min_max transform MSE  594.730273  613.857632    3137.811488\n",
       "Log10 transform MAE     17.327988   17.479541      26.216892\n",
       "Min_max transform MAE   17.616325   17.860014      26.360610"
      ]
     },
     "execution_count": 31,
     "metadata": {},
     "output_type": "execute_result"
    }
   ],
   "source": [
    "dc_errors = dict()\n",
    "for key, value in {'Train Data': df_train, 'Test Data': df_test, 'Original Data': df_start}.items():\n",
    "    true_val = 'Mm_DustTrack'\n",
    "    if key == 'Original Data':\n",
    "        true_val = 'Valor DustTrack'\n",
    "    dc_errors[key] = [mean_squared_error(value[true_val], value['pred_log_scaler']),\n",
    "                      mean_squared_error(value[true_val], value['pred_min_max_scaler']),\n",
    "                      mean_absolute_error(value[true_val], value['pred_log_scaler']),\n",
    "                      mean_absolute_error(value[true_val], value['pred_min_max_scaler'])]\n",
    "df_errors = pd.DataFrame(dc_errors)\n",
    "df_errors.index = ['Log10 transform MSE', 'Min_max transform MSE', 'Log10 transform MAE', 'Min_max transform MAE']\n",
    "df_errors[['Train Data', 'Test Data', 'Original Data']]"
   ]
  },
  {
   "cell_type": "markdown",
   "metadata": {},
   "source": [
    "Nota: Los valores de MAE y MSE corresponden al error absoluto medio y error cuadrático medio"
   ]
  },
  {
   "cell_type": "code",
   "execution_count": 32,
   "metadata": {},
   "outputs": [],
   "source": [
    "def plot_density(df, y_tue, y_pred, group_labels, title, filename):\n",
    "    hist_data = list()\n",
    "    for y in y_pred:\n",
    "        hist_data.append(df[y_tue] - df[y])\n",
    "\n",
    "    group_labels = group_labels\n",
    "\n",
    "    # Create distplot with custom bin_size\n",
    "    fig = ff.create_distplot(hist_data, group_labels, show_hist=False)\n",
    "    fig['layout'].update(title=title)\n",
    "    plot_url = py.iplot(fig, filename=filename)\n",
    "    return plot_url"
   ]
  },
  {
   "cell_type": "code",
   "execution_count": 33,
   "metadata": {},
   "outputs": [
    {
     "data": {
      "text/html": [
       "<iframe id=\"igraph\" scrolling=\"no\" style=\"border:none;\" seamless=\"seamless\" src=\"https://plot.ly/~FranciscoJavierOspinaSalazar/22.embed\" height=\"525px\" width=\"100%\"></iframe>"
      ],
      "text/plain": [
       "<plotly.tools.PlotlyDisplay object>"
      ]
     },
     "execution_count": 33,
     "metadata": {},
     "output_type": "execute_result"
    }
   ],
   "source": [
    "plot_density(df=df_train, \n",
    "             y_tue='Mm_DustTrack', \n",
    "             y_pred=['pred_log_scaler', 'pred_min_max_scaler'], \n",
    "             group_labels=['Log scaler', 'Min_max scaler'], \n",
    "             title='Densidad de los residuales train', \n",
    "             filename='Residuals_density_01')"
   ]
  },
  {
   "cell_type": "code",
   "execution_count": 34,
   "metadata": {},
   "outputs": [
    {
     "data": {
      "text/html": [
       "<iframe id=\"igraph\" scrolling=\"no\" style=\"border:none;\" seamless=\"seamless\" src=\"https://plot.ly/~FranciscoJavierOspinaSalazar/24.embed\" height=\"525px\" width=\"100%\"></iframe>"
      ],
      "text/plain": [
       "<plotly.tools.PlotlyDisplay object>"
      ]
     },
     "execution_count": 34,
     "metadata": {},
     "output_type": "execute_result"
    }
   ],
   "source": [
    "plot_density(df=df_test, \n",
    "             y_tue='Mm_DustTrack', \n",
    "             y_pred=['pred_log_scaler', 'pred_min_max_scaler'], \n",
    "             group_labels=['Log scaler', 'Min_max scaler'], \n",
    "             title='Densidad de los residuales test', \n",
    "             filename='Residuals_density_02')"
   ]
  },
  {
   "cell_type": "code",
   "execution_count": 35,
   "metadata": {},
   "outputs": [
    {
     "data": {
      "text/html": [
       "<iframe id=\"igraph\" scrolling=\"no\" style=\"border:none;\" seamless=\"seamless\" src=\"https://plot.ly/~FranciscoJavierOspinaSalazar/24.embed\" height=\"525px\" width=\"100%\"></iframe>"
      ],
      "text/plain": [
       "<plotly.tools.PlotlyDisplay object>"
      ]
     },
     "execution_count": 35,
     "metadata": {},
     "output_type": "execute_result"
    }
   ],
   "source": [
    "plot_density(df=df_start, \n",
    "             y_tue='Valor DustTrack', \n",
    "             y_pred=['pred_log_scaler', 'pred_min_max_scaler'], \n",
    "             group_labels=['Log scaler', 'Min_max scaler'], \n",
    "             title='Densidad de los residuales test', \n",
    "             filename='Residuals_density_02')"
   ]
  },
  {
   "cell_type": "code",
   "execution_count": 36,
   "metadata": {},
   "outputs": [],
   "source": [
    "df_train = df_train.assign(res_log_scaler=np.abs(df_train['Mm_DustTrack'] - df_train['pred_log_scaler']))\n",
    "df_train = df_train.assign(res_min_max_scaler=np.abs(df_train['Mm_DustTrack'] - df_train['pred_min_max_scaler']))\n",
    "df_test = df_test.assign(res_log_scaler=np.abs(df_test['Mm_DustTrack'] - df_test['pred_log_scaler']))\n",
    "df_test = df_test.assign(res_min_max_scaler=np.abs(df_test['Mm_DustTrack'] - df_test['pred_min_max_scaler']))\n",
    "df_start = df_start.assign(res_log_scaler=np.abs(df_start['Valor DustTrack'] - df_start['pred_log_scaler']))\n",
    "df_start = df_start.assign(res_min_max_scaler=np.abs(df_start['Valor DustTrack'] - df_start['pred_min_max_scaler']))"
   ]
  },
  {
   "cell_type": "code",
   "execution_count": 37,
   "metadata": {},
   "outputs": [
    {
     "data": {
      "text/html": [
       "<div>\n",
       "<style scoped>\n",
       "    .dataframe tbody tr th:only-of-type {\n",
       "        vertical-align: middle;\n",
       "    }\n",
       "\n",
       "    .dataframe tbody tr th {\n",
       "        vertical-align: top;\n",
       "    }\n",
       "\n",
       "    .dataframe thead tr th {\n",
       "        text-align: left;\n",
       "    }\n",
       "</style>\n",
       "<table border=\"1\" class=\"dataframe\">\n",
       "  <thead>\n",
       "    <tr>\n",
       "      <th></th>\n",
       "      <th>res_log_scaler_train</th>\n",
       "      <th>res_min_max_scaler_train</th>\n",
       "      <th>res_log_scaler_test</th>\n",
       "      <th>res_min_max_scaler_test</th>\n",
       "      <th>res_log_scaler_original_data</th>\n",
       "      <th>res_min_max_scaler_original_data</th>\n",
       "    </tr>\n",
       "  </thead>\n",
       "  <tbody>\n",
       "    <tr>\n",
       "      <th>0.00</th>\n",
       "      <td>0.006140</td>\n",
       "      <td>0.007205</td>\n",
       "      <td>0.003396</td>\n",
       "      <td>0.014924</td>\n",
       "      <td>0.000484</td>\n",
       "      <td>0.000322</td>\n",
       "    </tr>\n",
       "    <tr>\n",
       "      <th>0.05</th>\n",
       "      <td>0.883976</td>\n",
       "      <td>1.332992</td>\n",
       "      <td>1.015330</td>\n",
       "      <td>1.379544</td>\n",
       "      <td>1.038645</td>\n",
       "      <td>1.300217</td>\n",
       "    </tr>\n",
       "    <tr>\n",
       "      <th>0.10</th>\n",
       "      <td>1.844173</td>\n",
       "      <td>2.560733</td>\n",
       "      <td>1.933170</td>\n",
       "      <td>2.715016</td>\n",
       "      <td>2.190064</td>\n",
       "      <td>2.694341</td>\n",
       "    </tr>\n",
       "    <tr>\n",
       "      <th>0.15</th>\n",
       "      <td>2.900505</td>\n",
       "      <td>3.828050</td>\n",
       "      <td>2.932513</td>\n",
       "      <td>3.907760</td>\n",
       "      <td>3.353153</td>\n",
       "      <td>4.089009</td>\n",
       "    </tr>\n",
       "    <tr>\n",
       "      <th>0.20</th>\n",
       "      <td>3.965462</td>\n",
       "      <td>5.029690</td>\n",
       "      <td>4.046841</td>\n",
       "      <td>5.182302</td>\n",
       "      <td>4.593960</td>\n",
       "      <td>5.394446</td>\n",
       "    </tr>\n",
       "    <tr>\n",
       "      <th>0.25</th>\n",
       "      <td>5.116023</td>\n",
       "      <td>6.227400</td>\n",
       "      <td>5.177273</td>\n",
       "      <td>6.320191</td>\n",
       "      <td>5.809936</td>\n",
       "      <td>6.787925</td>\n",
       "    </tr>\n",
       "    <tr>\n",
       "      <th>0.30</th>\n",
       "      <td>6.317736</td>\n",
       "      <td>7.329271</td>\n",
       "      <td>6.461555</td>\n",
       "      <td>7.546718</td>\n",
       "      <td>7.231849</td>\n",
       "      <td>8.335685</td>\n",
       "    </tr>\n",
       "    <tr>\n",
       "      <th>0.35</th>\n",
       "      <td>7.585589</td>\n",
       "      <td>8.544034</td>\n",
       "      <td>7.766379</td>\n",
       "      <td>8.734637</td>\n",
       "      <td>8.677180</td>\n",
       "      <td>10.000322</td>\n",
       "    </tr>\n",
       "    <tr>\n",
       "      <th>0.40</th>\n",
       "      <td>8.815003</td>\n",
       "      <td>9.795220</td>\n",
       "      <td>8.971979</td>\n",
       "      <td>10.011467</td>\n",
       "      <td>10.320686</td>\n",
       "      <td>11.458650</td>\n",
       "    </tr>\n",
       "    <tr>\n",
       "      <th>0.45</th>\n",
       "      <td>10.273383</td>\n",
       "      <td>11.274136</td>\n",
       "      <td>10.295546</td>\n",
       "      <td>11.329072</td>\n",
       "      <td>11.923693</td>\n",
       "      <td>13.153313</td>\n",
       "    </tr>\n",
       "    <tr>\n",
       "      <th>0.50</th>\n",
       "      <td>11.754673</td>\n",
       "      <td>12.788696</td>\n",
       "      <td>11.999226</td>\n",
       "      <td>12.767898</td>\n",
       "      <td>13.944236</td>\n",
       "      <td>15.059084</td>\n",
       "    </tr>\n",
       "    <tr>\n",
       "      <th>0.55</th>\n",
       "      <td>13.359369</td>\n",
       "      <td>14.370286</td>\n",
       "      <td>13.682751</td>\n",
       "      <td>14.465869</td>\n",
       "      <td>16.320686</td>\n",
       "      <td>17.029058</td>\n",
       "    </tr>\n",
       "    <tr>\n",
       "      <th>0.60</th>\n",
       "      <td>15.266871</td>\n",
       "      <td>16.118046</td>\n",
       "      <td>15.711184</td>\n",
       "      <td>16.228732</td>\n",
       "      <td>18.961427</td>\n",
       "      <td>19.608375</td>\n",
       "    </tr>\n",
       "    <tr>\n",
       "      <th>0.65</th>\n",
       "      <td>17.286726</td>\n",
       "      <td>18.011233</td>\n",
       "      <td>17.548850</td>\n",
       "      <td>18.228058</td>\n",
       "      <td>21.858249</td>\n",
       "      <td>22.723722</td>\n",
       "    </tr>\n",
       "    <tr>\n",
       "      <th>0.70</th>\n",
       "      <td>20.199004</td>\n",
       "      <td>20.547473</td>\n",
       "      <td>19.961648</td>\n",
       "      <td>20.857797</td>\n",
       "      <td>25.695427</td>\n",
       "      <td>26.240811</td>\n",
       "    </tr>\n",
       "    <tr>\n",
       "      <th>0.75</th>\n",
       "      <td>23.187883</td>\n",
       "      <td>23.350032</td>\n",
       "      <td>23.265220</td>\n",
       "      <td>23.871672</td>\n",
       "      <td>30.090239</td>\n",
       "      <td>30.941561</td>\n",
       "    </tr>\n",
       "    <tr>\n",
       "      <th>0.80</th>\n",
       "      <td>26.926752</td>\n",
       "      <td>27.228856</td>\n",
       "      <td>26.989612</td>\n",
       "      <td>27.159494</td>\n",
       "      <td>37.041599</td>\n",
       "      <td>37.212647</td>\n",
       "    </tr>\n",
       "    <tr>\n",
       "      <th>0.85</th>\n",
       "      <td>32.574526</td>\n",
       "      <td>32.517703</td>\n",
       "      <td>32.055632</td>\n",
       "      <td>32.618790</td>\n",
       "      <td>46.956124</td>\n",
       "      <td>45.278274</td>\n",
       "    </tr>\n",
       "    <tr>\n",
       "      <th>0.90</th>\n",
       "      <td>40.724674</td>\n",
       "      <td>39.561795</td>\n",
       "      <td>40.177895</td>\n",
       "      <td>40.241041</td>\n",
       "      <td>62.691325</td>\n",
       "      <td>59.762197</td>\n",
       "    </tr>\n",
       "    <tr>\n",
       "      <th>0.95</th>\n",
       "      <td>53.243903</td>\n",
       "      <td>50.644692</td>\n",
       "      <td>54.098914</td>\n",
       "      <td>50.068867</td>\n",
       "      <td>89.133679</td>\n",
       "      <td>85.841765</td>\n",
       "    </tr>\n",
       "    <tr>\n",
       "      <th>1.00</th>\n",
       "      <td>164.389119</td>\n",
       "      <td>166.757485</td>\n",
       "      <td>165.180306</td>\n",
       "      <td>167.689248</td>\n",
       "      <td>2834.534580</td>\n",
       "      <td>2869.411653</td>\n",
       "    </tr>\n",
       "  </tbody>\n",
       "</table>\n",
       "</div>"
      ],
      "text/plain": [
       "     res_log_scaler_train res_min_max_scaler_train res_log_scaler_test  \\\n",
       "0.00             0.006140                 0.007205            0.003396   \n",
       "0.05             0.883976                 1.332992            1.015330   \n",
       "0.10             1.844173                 2.560733            1.933170   \n",
       "0.15             2.900505                 3.828050            2.932513   \n",
       "0.20             3.965462                 5.029690            4.046841   \n",
       "0.25             5.116023                 6.227400            5.177273   \n",
       "0.30             6.317736                 7.329271            6.461555   \n",
       "0.35             7.585589                 8.544034            7.766379   \n",
       "0.40             8.815003                 9.795220            8.971979   \n",
       "0.45            10.273383                11.274136           10.295546   \n",
       "0.50            11.754673                12.788696           11.999226   \n",
       "0.55            13.359369                14.370286           13.682751   \n",
       "0.60            15.266871                16.118046           15.711184   \n",
       "0.65            17.286726                18.011233           17.548850   \n",
       "0.70            20.199004                20.547473           19.961648   \n",
       "0.75            23.187883                23.350032           23.265220   \n",
       "0.80            26.926752                27.228856           26.989612   \n",
       "0.85            32.574526                32.517703           32.055632   \n",
       "0.90            40.724674                39.561795           40.177895   \n",
       "0.95            53.243903                50.644692           54.098914   \n",
       "1.00           164.389119               166.757485          165.180306   \n",
       "\n",
       "     res_min_max_scaler_test res_log_scaler_original_data  \\\n",
       "0.00                0.014924                     0.000484   \n",
       "0.05                1.379544                     1.038645   \n",
       "0.10                2.715016                     2.190064   \n",
       "0.15                3.907760                     3.353153   \n",
       "0.20                5.182302                     4.593960   \n",
       "0.25                6.320191                     5.809936   \n",
       "0.30                7.546718                     7.231849   \n",
       "0.35                8.734637                     8.677180   \n",
       "0.40               10.011467                    10.320686   \n",
       "0.45               11.329072                    11.923693   \n",
       "0.50               12.767898                    13.944236   \n",
       "0.55               14.465869                    16.320686   \n",
       "0.60               16.228732                    18.961427   \n",
       "0.65               18.228058                    21.858249   \n",
       "0.70               20.857797                    25.695427   \n",
       "0.75               23.871672                    30.090239   \n",
       "0.80               27.159494                    37.041599   \n",
       "0.85               32.618790                    46.956124   \n",
       "0.90               40.241041                    62.691325   \n",
       "0.95               50.068867                    89.133679   \n",
       "1.00              167.689248                  2834.534580   \n",
       "\n",
       "     res_min_max_scaler_original_data  \n",
       "0.00                         0.000322  \n",
       "0.05                         1.300217  \n",
       "0.10                         2.694341  \n",
       "0.15                         4.089009  \n",
       "0.20                         5.394446  \n",
       "0.25                         6.787925  \n",
       "0.30                         8.335685  \n",
       "0.35                        10.000322  \n",
       "0.40                        11.458650  \n",
       "0.45                        13.153313  \n",
       "0.50                        15.059084  \n",
       "0.55                        17.029058  \n",
       "0.60                        19.608375  \n",
       "0.65                        22.723722  \n",
       "0.70                        26.240811  \n",
       "0.75                        30.941561  \n",
       "0.80                        37.212647  \n",
       "0.85                        45.278274  \n",
       "0.90                        59.762197  \n",
       "0.95                        85.841765  \n",
       "1.00                      2869.411653  "
      ]
     },
     "execution_count": 37,
     "metadata": {},
     "output_type": "execute_result"
    }
   ],
   "source": [
    "step = 0.05\n",
    "quantile_train = df_train[['res_log_scaler', 'res_min_max_scaler']].quantile(np.arange(0, 1 + step, step))\n",
    "quantile_train.columns = [['res_log_scaler_train', 'res_min_max_scaler_train']]\n",
    "quantile_test = df_test[['res_log_scaler', 'res_min_max_scaler']].quantile(np.arange(0, 1 + step, step))\n",
    "quantile_test.columns = [['res_log_scaler_test', 'res_min_max_scaler_test']]\n",
    "quantile_start = df_start[['res_log_scaler', 'res_min_max_scaler']].quantile(np.arange(0, 1 + step, step))\n",
    "quantile_start.columns = [['res_log_scaler_original_data', 'res_min_max_scaler_original_data']]\n",
    "df_quantile = pd.concat([quantile_train, quantile_test, quantile_start], axis=1)\n",
    "df_quantile"
   ]
  },
  {
   "cell_type": "markdown",
   "metadata": {},
   "source": [
    "# Ecuación final de modelamiento (transformaión Log10)\n",
    "\n",
    "La ecuación final que mejor se comporta para el modelamiento de los valores de **Valor DustTrack** a partir de los datos de **Valor Honeywell** es:\n",
    "\n",
    "$$y = 10^{1.1675 * log_{10}(x) + 0.4173}$$\n",
    "\n",
    "\n",
    "Donde X es el valor de la variable **Valor Honeywell**  y y el valor de la variable **Valor DustTrack** m"
   ]
  },
  {
   "cell_type": "markdown",
   "metadata": {},
   "source": [
    "# Conclusiones finales\n",
    "\n",
    "- Es posible hacer una reconstrucción no perfecta pero si bastante buena de los datos del sensor **DustTrack** con base en los datos del sensor **Honeywell**."
   ]
  },
  {
   "cell_type": "code",
   "execution_count": null,
   "metadata": {},
   "outputs": [],
   "source": []
  }
 ],
 "metadata": {
  "kernelspec": {
   "display_name": "Python 3",
   "language": "python",
   "name": "python3"
  },
  "language_info": {
   "codemirror_mode": {
    "name": "ipython",
    "version": 3
   },
   "file_extension": ".py",
   "mimetype": "text/x-python",
   "name": "python",
   "nbconvert_exporter": "python",
   "pygments_lexer": "ipython3",
   "version": "3.5.5"
  }
 },
 "nbformat": 4,
 "nbformat_minor": 2
}
